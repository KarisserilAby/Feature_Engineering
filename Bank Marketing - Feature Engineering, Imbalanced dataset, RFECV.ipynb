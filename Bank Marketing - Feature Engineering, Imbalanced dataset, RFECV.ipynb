{
 "cells": [
  {
   "cell_type": "code",
   "execution_count": 1,
   "metadata": {},
   "outputs": [],
   "source": [
    "import pandas as pd\n",
    "import numpy as np\n",
    "import matplotlib.pyplot as plt\n",
    "import seaborn as sns"
   ]
  },
  {
   "cell_type": "code",
   "execution_count": 2,
   "metadata": {},
   "outputs": [],
   "source": [
    "from sklearn import metrics\n",
    "from sklearn.preprocessing import MinMaxScaler\n",
    "from sklearn.metrics import f1_score\n",
    "from sklearn.utils import resample\n",
    "from sklearn.preprocessing import LabelEncoder\n",
    "from sklearn.model_selection import train_test_split\n",
    "from sklearn.linear_model import LogisticRegression\n",
    "from sklearn.metrics import confusion_matrix,accuracy_score"
   ]
  },
  {
   "cell_type": "code",
   "execution_count": 3,
   "metadata": {},
   "outputs": [
    {
     "data": {
      "text/html": [
       "<div>\n",
       "<style scoped>\n",
       "    .dataframe tbody tr th:only-of-type {\n",
       "        vertical-align: middle;\n",
       "    }\n",
       "\n",
       "    .dataframe tbody tr th {\n",
       "        vertical-align: top;\n",
       "    }\n",
       "\n",
       "    .dataframe thead th {\n",
       "        text-align: right;\n",
       "    }\n",
       "</style>\n",
       "<table border=\"1\" class=\"dataframe\">\n",
       "  <thead>\n",
       "    <tr style=\"text-align: right;\">\n",
       "      <th></th>\n",
       "      <th>age</th>\n",
       "      <th>job</th>\n",
       "      <th>marital</th>\n",
       "      <th>education</th>\n",
       "      <th>default</th>\n",
       "      <th>housing</th>\n",
       "      <th>loan</th>\n",
       "      <th>contact</th>\n",
       "      <th>month</th>\n",
       "      <th>day_of_week</th>\n",
       "      <th>duration</th>\n",
       "      <th>campaign</th>\n",
       "      <th>pdays</th>\n",
       "      <th>previous</th>\n",
       "      <th>poutcome</th>\n",
       "      <th>emp.var.rate</th>\n",
       "      <th>cons.price.idx</th>\n",
       "      <th>cons.conf.idx</th>\n",
       "      <th>euribor3m</th>\n",
       "      <th>nr.employed</th>\n",
       "      <th>y</th>\n",
       "    </tr>\n",
       "  </thead>\n",
       "  <tbody>\n",
       "    <tr>\n",
       "      <th>0</th>\n",
       "      <td>56</td>\n",
       "      <td>housemaid</td>\n",
       "      <td>married</td>\n",
       "      <td>basic.4y</td>\n",
       "      <td>no</td>\n",
       "      <td>no</td>\n",
       "      <td>no</td>\n",
       "      <td>telephone</td>\n",
       "      <td>may</td>\n",
       "      <td>mon</td>\n",
       "      <td>261</td>\n",
       "      <td>1</td>\n",
       "      <td>999</td>\n",
       "      <td>0</td>\n",
       "      <td>nonexistent</td>\n",
       "      <td>1.1</td>\n",
       "      <td>93.994</td>\n",
       "      <td>-36.4</td>\n",
       "      <td>4.857</td>\n",
       "      <td>5191.0</td>\n",
       "      <td>no</td>\n",
       "    </tr>\n",
       "    <tr>\n",
       "      <th>1</th>\n",
       "      <td>57</td>\n",
       "      <td>services</td>\n",
       "      <td>married</td>\n",
       "      <td>high.school</td>\n",
       "      <td>unknown</td>\n",
       "      <td>no</td>\n",
       "      <td>no</td>\n",
       "      <td>telephone</td>\n",
       "      <td>may</td>\n",
       "      <td>mon</td>\n",
       "      <td>149</td>\n",
       "      <td>1</td>\n",
       "      <td>999</td>\n",
       "      <td>0</td>\n",
       "      <td>nonexistent</td>\n",
       "      <td>1.1</td>\n",
       "      <td>93.994</td>\n",
       "      <td>-36.4</td>\n",
       "      <td>4.857</td>\n",
       "      <td>5191.0</td>\n",
       "      <td>no</td>\n",
       "    </tr>\n",
       "    <tr>\n",
       "      <th>2</th>\n",
       "      <td>37</td>\n",
       "      <td>services</td>\n",
       "      <td>married</td>\n",
       "      <td>high.school</td>\n",
       "      <td>no</td>\n",
       "      <td>yes</td>\n",
       "      <td>no</td>\n",
       "      <td>telephone</td>\n",
       "      <td>may</td>\n",
       "      <td>mon</td>\n",
       "      <td>226</td>\n",
       "      <td>1</td>\n",
       "      <td>999</td>\n",
       "      <td>0</td>\n",
       "      <td>nonexistent</td>\n",
       "      <td>1.1</td>\n",
       "      <td>93.994</td>\n",
       "      <td>-36.4</td>\n",
       "      <td>4.857</td>\n",
       "      <td>5191.0</td>\n",
       "      <td>no</td>\n",
       "    </tr>\n",
       "    <tr>\n",
       "      <th>3</th>\n",
       "      <td>40</td>\n",
       "      <td>admin.</td>\n",
       "      <td>married</td>\n",
       "      <td>basic.6y</td>\n",
       "      <td>no</td>\n",
       "      <td>no</td>\n",
       "      <td>no</td>\n",
       "      <td>telephone</td>\n",
       "      <td>may</td>\n",
       "      <td>mon</td>\n",
       "      <td>151</td>\n",
       "      <td>1</td>\n",
       "      <td>999</td>\n",
       "      <td>0</td>\n",
       "      <td>nonexistent</td>\n",
       "      <td>1.1</td>\n",
       "      <td>93.994</td>\n",
       "      <td>-36.4</td>\n",
       "      <td>4.857</td>\n",
       "      <td>5191.0</td>\n",
       "      <td>no</td>\n",
       "    </tr>\n",
       "    <tr>\n",
       "      <th>4</th>\n",
       "      <td>56</td>\n",
       "      <td>services</td>\n",
       "      <td>married</td>\n",
       "      <td>high.school</td>\n",
       "      <td>no</td>\n",
       "      <td>no</td>\n",
       "      <td>yes</td>\n",
       "      <td>telephone</td>\n",
       "      <td>may</td>\n",
       "      <td>mon</td>\n",
       "      <td>307</td>\n",
       "      <td>1</td>\n",
       "      <td>999</td>\n",
       "      <td>0</td>\n",
       "      <td>nonexistent</td>\n",
       "      <td>1.1</td>\n",
       "      <td>93.994</td>\n",
       "      <td>-36.4</td>\n",
       "      <td>4.857</td>\n",
       "      <td>5191.0</td>\n",
       "      <td>no</td>\n",
       "    </tr>\n",
       "  </tbody>\n",
       "</table>\n",
       "</div>"
      ],
      "text/plain": [
       "   age        job  marital    education  default housing loan    contact  \\\n",
       "0   56  housemaid  married     basic.4y       no      no   no  telephone   \n",
       "1   57   services  married  high.school  unknown      no   no  telephone   \n",
       "2   37   services  married  high.school       no     yes   no  telephone   \n",
       "3   40     admin.  married     basic.6y       no      no   no  telephone   \n",
       "4   56   services  married  high.school       no      no  yes  telephone   \n",
       "\n",
       "  month day_of_week  duration  campaign  pdays  previous     poutcome  \\\n",
       "0   may         mon       261         1    999         0  nonexistent   \n",
       "1   may         mon       149         1    999         0  nonexistent   \n",
       "2   may         mon       226         1    999         0  nonexistent   \n",
       "3   may         mon       151         1    999         0  nonexistent   \n",
       "4   may         mon       307         1    999         0  nonexistent   \n",
       "\n",
       "   emp.var.rate  cons.price.idx  cons.conf.idx  euribor3m  nr.employed   y  \n",
       "0           1.1          93.994          -36.4      4.857       5191.0  no  \n",
       "1           1.1          93.994          -36.4      4.857       5191.0  no  \n",
       "2           1.1          93.994          -36.4      4.857       5191.0  no  \n",
       "3           1.1          93.994          -36.4      4.857       5191.0  no  \n",
       "4           1.1          93.994          -36.4      4.857       5191.0  no  "
      ]
     },
     "execution_count": 3,
     "metadata": {},
     "output_type": "execute_result"
    }
   ],
   "source": [
    "df = pd.read_csv('Bank_Additional.csv',';')\n",
    "pd.set_option('display.max_columns', None)\n",
    "df.head()"
   ]
  },
  {
   "cell_type": "code",
   "execution_count": 5,
   "metadata": {},
   "outputs": [],
   "source": [
    "# This dataset is related with the marketing campaigns done by a portugese bank. A large number of customers were called\n",
    "# on phone making requests to subscribe to a term deposit plan by the bank. This dataset consist of 41188 datapoints \n",
    "# and 21 features. Here in this project we are trying to create a classification model that can predict the potential cusomters\n",
    "# who may accept the bank's request to subscribe the term deposit. It is also planned to optimize the model through feature\n",
    "# engineering so that maximum accuracy is obtained with minimum possible features. \n",
    "\n",
    "#The dataset have 41188 observations and 21 features. Out of this features 11 are categorical and 10 are numberical."
   ]
  },
  {
   "cell_type": "code",
   "execution_count": 4,
   "metadata": {},
   "outputs": [
    {
     "data": {
      "text/plain": [
       "age                 int64\n",
       "job                object\n",
       "marital            object\n",
       "education          object\n",
       "default            object\n",
       "housing            object\n",
       "loan               object\n",
       "contact            object\n",
       "month              object\n",
       "day_of_week        object\n",
       "duration            int64\n",
       "campaign            int64\n",
       "pdays               int64\n",
       "previous            int64\n",
       "poutcome           object\n",
       "emp.var.rate      float64\n",
       "cons.price.idx    float64\n",
       "cons.conf.idx     float64\n",
       "euribor3m         float64\n",
       "nr.employed       float64\n",
       "y                  object\n",
       "dtype: object"
      ]
     },
     "execution_count": 4,
     "metadata": {},
     "output_type": "execute_result"
    }
   ],
   "source": [
    "df.dtypes"
   ]
  },
  {
   "cell_type": "code",
   "execution_count": 6,
   "metadata": {},
   "outputs": [
    {
     "data": {
      "image/png": "[encoded data removed]",
      "text/plain": [
       "<Figure size 432x288 with 1 Axes>"
      ]
     },
     "metadata": {
      "needs_background": "light"
     },
     "output_type": "display_data"
    }
   ],
   "source": [
    "#  This dataset is a higly imbalanced when considering the target variable 'y'. Out of 41188 customers who were \n",
    "# contacted for selling the term deposit plan, only 4640 people responded positively and 36548 customers turned down\n",
    "# the request. Means only 11.2% of the dataset gave a desired response.\n",
    "\n",
    "plt.title('Distribution of target variables')\n",
    "plt.bar(x = list(df.y.value_counts().index), height = list(df.y.value_counts().values))\n",
    "x =  list(df.y.value_counts().index)\n",
    "height = list(df.y.value_counts().values)\n",
    "for i in range(len(x)):\n",
    "    plt.text(i,height[i]+500,height[i],ha = 'center',va = 'bottom')"
   ]
  },
  {
   "cell_type": "code",
   "execution_count": 7,
   "metadata": {},
   "outputs": [],
   "source": [
    "#EXPLORATORY DATA ANALYSIS"
   ]
  },
  {
   "cell_type": "code",
   "execution_count": 8,
   "metadata": {},
   "outputs": [],
   "source": [
    "#AGE FEATURE"
   ]
  },
  {
   "cell_type": "code",
   "execution_count": 9,
   "metadata": {},
   "outputs": [],
   "source": [
    "# The age feature ranges from 17 to 98. I believe there is no need of finding outliers from this distribution\n",
    "# because both these extremes are possible ages to get contacted by bank officials requesting subscription to a plan. A 98 \n",
    "# year old wealthy person can be contacted to start a term plan for his/her grandchildren. A 17 year old student with\n",
    "# saving habits can also get contacted by a bank to start a term plan. Mean age of the respondents is 40. Most number\n",
    "# of respondents are in the 25-45 age bracket and a similar pattern is observed in the age group of people accepted the\n",
    "# subscription plan as well."
   ]
  },
  {
   "cell_type": "code",
   "execution_count": 11,
   "metadata": {},
   "outputs": [
    {
     "data": {
      "text/plain": [
       "<AxesSubplot:title={'center':'Age Density(Yes Vs No)'}, xlabel='age', ylabel='Density'>"
      ]
     },
     "execution_count": 11,
     "metadata": {},
     "output_type": "execute_result"
    },
    {
     "data": {
      "image/png": "[encoded data removed]",
      "text/plain": [
       "<Figure size 864x360 with 3 Axes>"
      ]
     },
     "metadata": {
      "needs_background": "light"
     },
     "output_type": "display_data"
    }
   ],
   "source": [
    "plt.figure(figsize = (12,5))\n",
    "\n",
    "plt.subplot(1,3,1)\n",
    "plt.title('Age Boxplot')\n",
    "plt.boxplot(df.age)\n",
    "\n",
    "plt.subplot(1,3,2)\n",
    "plt.title('Age Density Distribution')\n",
    "sns.kdeplot(x = df.age)\n",
    "\n",
    "plt.subplot(1,3,3)\n",
    "plt.title('Age Density(Yes Vs No)')\n",
    "sns.kdeplot(x = 'age', hue = 'y', data = df)\n"
   ]
  },
  {
   "cell_type": "code",
   "execution_count": 12,
   "metadata": {},
   "outputs": [],
   "source": [
    "#JOB FEATURE"
   ]
  },
  {
   "cell_type": "code",
   "execution_count": 13,
   "metadata": {},
   "outputs": [
    {
     "data": {
      "text/html": [
       "<div>\n",
       "<style scoped>\n",
       "    .dataframe tbody tr th:only-of-type {\n",
       "        vertical-align: middle;\n",
       "    }\n",
       "\n",
       "    .dataframe tbody tr th {\n",
       "        vertical-align: top;\n",
       "    }\n",
       "\n",
       "    .dataframe thead th {\n",
       "        text-align: right;\n",
       "    }\n",
       "</style>\n",
       "<table border=\"1\" class=\"dataframe\">\n",
       "  <thead>\n",
       "    <tr style=\"text-align: right;\">\n",
       "      <th></th>\n",
       "      <th>Job_Title</th>\n",
       "      <th>yes</th>\n",
       "      <th>no</th>\n",
       "      <th>Total</th>\n",
       "      <th>Acceptance%</th>\n",
       "    </tr>\n",
       "  </thead>\n",
       "  <tbody>\n",
       "    <tr>\n",
       "      <th>0</th>\n",
       "      <td>admin.</td>\n",
       "      <td>1352</td>\n",
       "      <td>9070</td>\n",
       "      <td>10422</td>\n",
       "      <td>12.97</td>\n",
       "    </tr>\n",
       "    <tr>\n",
       "      <th>1</th>\n",
       "      <td>blue-collar</td>\n",
       "      <td>730</td>\n",
       "      <td>8616</td>\n",
       "      <td>9254</td>\n",
       "      <td>7.89</td>\n",
       "    </tr>\n",
       "    <tr>\n",
       "      <th>2</th>\n",
       "      <td>technician</td>\n",
       "      <td>638</td>\n",
       "      <td>6013</td>\n",
       "      <td>6743</td>\n",
       "      <td>9.46</td>\n",
       "    </tr>\n",
       "    <tr>\n",
       "      <th>3</th>\n",
       "      <td>services</td>\n",
       "      <td>434</td>\n",
       "      <td>3646</td>\n",
       "      <td>3969</td>\n",
       "      <td>10.93</td>\n",
       "    </tr>\n",
       "    <tr>\n",
       "      <th>4</th>\n",
       "      <td>management</td>\n",
       "      <td>328</td>\n",
       "      <td>2596</td>\n",
       "      <td>2924</td>\n",
       "      <td>11.22</td>\n",
       "    </tr>\n",
       "    <tr>\n",
       "      <th>5</th>\n",
       "      <td>retired</td>\n",
       "      <td>323</td>\n",
       "      <td>1332</td>\n",
       "      <td>1720</td>\n",
       "      <td>18.78</td>\n",
       "    </tr>\n",
       "    <tr>\n",
       "      <th>6</th>\n",
       "      <td>entrepreneur</td>\n",
       "      <td>275</td>\n",
       "      <td>1286</td>\n",
       "      <td>1456</td>\n",
       "      <td>18.89</td>\n",
       "    </tr>\n",
       "    <tr>\n",
       "      <th>7</th>\n",
       "      <td>self-employed</td>\n",
       "      <td>149</td>\n",
       "      <td>1272</td>\n",
       "      <td>1421</td>\n",
       "      <td>10.49</td>\n",
       "    </tr>\n",
       "    <tr>\n",
       "      <th>8</th>\n",
       "      <td>housemaid</td>\n",
       "      <td>144</td>\n",
       "      <td>954</td>\n",
       "      <td>1060</td>\n",
       "      <td>13.58</td>\n",
       "    </tr>\n",
       "    <tr>\n",
       "      <th>9</th>\n",
       "      <td>unemployed</td>\n",
       "      <td>124</td>\n",
       "      <td>870</td>\n",
       "      <td>1014</td>\n",
       "      <td>12.23</td>\n",
       "    </tr>\n",
       "    <tr>\n",
       "      <th>10</th>\n",
       "      <td>student</td>\n",
       "      <td>106</td>\n",
       "      <td>600</td>\n",
       "      <td>875</td>\n",
       "      <td>12.11</td>\n",
       "    </tr>\n",
       "    <tr>\n",
       "      <th>11</th>\n",
       "      <td>unknown</td>\n",
       "      <td>37</td>\n",
       "      <td>293</td>\n",
       "      <td>330</td>\n",
       "      <td>11.21</td>\n",
       "    </tr>\n",
       "  </tbody>\n",
       "</table>\n",
       "</div>"
      ],
      "text/plain": [
       "        Job_Title   yes    no  Total  Acceptance%\n",
       "0          admin.  1352  9070  10422        12.97\n",
       "1     blue-collar   730  8616   9254         7.89\n",
       "2      technician   638  6013   6743         9.46\n",
       "3        services   434  3646   3969        10.93\n",
       "4      management   328  2596   2924        11.22\n",
       "5         retired   323  1332   1720        18.78\n",
       "6    entrepreneur   275  1286   1456        18.89\n",
       "7   self-employed   149  1272   1421        10.49\n",
       "8       housemaid   144   954   1060        13.58\n",
       "9      unemployed   124   870   1014        12.23\n",
       "10        student   106   600    875        12.11\n",
       "11        unknown    37   293    330        11.21"
      ]
     },
     "execution_count": 13,
     "metadata": {},
     "output_type": "execute_result"
    }
   ],
   "source": [
    "jobdf = pd.DataFrame()\n",
    "jobdf['Job_Title'] = list(df.job.value_counts().index)\n",
    "jobdf['yes'] = list(df[df['y']=='yes']['job'].value_counts())\n",
    "jobdf['no'] = list(df[df['y']=='no']['job'].value_counts())\n",
    "jobdf['Total'] = list(df.job.value_counts().values)\n",
    "job_per = []\n",
    "for i in range(len(jobdf)):\n",
    "    avg = round((jobdf['yes'][i]/jobdf['Total'][i])*100,2)\n",
    "    job_per.append(avg)\n",
    "jobdf['Acceptance%'] = job_per\n",
    "jobdf"
   ]
  },
  {
   "cell_type": "code",
   "execution_count": 14,
   "metadata": {},
   "outputs": [
    {
     "data": {
      "text/plain": [
       "(array([ 0,  1,  2,  3,  4,  5,  6,  7,  8,  9, 10, 11]),\n",
       " [Text(0, 0, 'admin.'),\n",
       "  Text(1, 0, 'blue-collar'),\n",
       "  Text(2, 0, 'technician'),\n",
       "  Text(3, 0, 'services'),\n",
       "  Text(4, 0, 'management'),\n",
       "  Text(5, 0, 'retired'),\n",
       "  Text(6, 0, 'entrepreneur'),\n",
       "  Text(7, 0, 'self-employed'),\n",
       "  Text(8, 0, 'housemaid'),\n",
       "  Text(9, 0, 'unemployed'),\n",
       "  Text(10, 0, 'student'),\n",
       "  Text(11, 0, 'unknown')])"
      ]
     },
     "execution_count": 14,
     "metadata": {},
     "output_type": "execute_result"
    },
    {
     "data": {
      "image/png": "[encoded data removed]",
      "text/plain": [
       "<Figure size 720x360 with 1 Axes>"
      ]
     },
     "metadata": {
      "needs_background": "light"
     },
     "output_type": "display_data"
    }
   ],
   "source": [
    "plt.figure(figsize = (10,5))\n",
    "sns.barplot(x = jobdf['Job_Title'],y = jobdf['Acceptance%'])\n",
    "plt.xticks(rotation = 35)"
   ]
  },
  {
   "cell_type": "code",
   "execution_count": 15,
   "metadata": {},
   "outputs": [],
   "source": [
    "# Highest number of respondents where from jobs like admin, blue-collar jobs and technicians while the least number of\n",
    "# contacts were made to students and unemployed. Out of all jobs entrepreneurs and retired people are more accepting the\n",
    "# subscription request when compared to other jobs. Blue-collar employees and technicians are most difficult professions\n",
    "# to close."
   ]
  },
  {
   "cell_type": "code",
   "execution_count": 16,
   "metadata": {},
   "outputs": [],
   "source": [
    "#MARITAL FEATURE"
   ]
  },
  {
   "cell_type": "code",
   "execution_count": 17,
   "metadata": {},
   "outputs": [],
   "source": [
    "# The marital feature contains 4 categories married, single, divorced and unknown. Married and single makes the chunk of data\n",
    "# and unknown is the least in number. The unknown values in the dataset are very misleading because unlike an NA it can take\n",
    "# any value. So it would be better to avoid the unknown values from the dataset to get more meaning from the features. Singles \n",
    "# have a slightly higher chance of accepting the subscription request than married and divorced customers"
   ]
  },
  {
   "cell_type": "code",
   "execution_count": 18,
   "metadata": {},
   "outputs": [
    {
     "data": {
      "text/html": [
       "<div>\n",
       "<style scoped>\n",
       "    .dataframe tbody tr th:only-of-type {\n",
       "        vertical-align: middle;\n",
       "    }\n",
       "\n",
       "    .dataframe tbody tr th {\n",
       "        vertical-align: top;\n",
       "    }\n",
       "\n",
       "    .dataframe thead th {\n",
       "        text-align: right;\n",
       "    }\n",
       "</style>\n",
       "<table border=\"1\" class=\"dataframe\">\n",
       "  <thead>\n",
       "    <tr style=\"text-align: right;\">\n",
       "      <th></th>\n",
       "      <th>Marital_Status</th>\n",
       "      <th>Yes</th>\n",
       "      <th>No</th>\n",
       "      <th>Total</th>\n",
       "      <th>Acceptance%</th>\n",
       "    </tr>\n",
       "  </thead>\n",
       "  <tbody>\n",
       "    <tr>\n",
       "      <th>0</th>\n",
       "      <td>married</td>\n",
       "      <td>2532</td>\n",
       "      <td>22396</td>\n",
       "      <td>24928</td>\n",
       "      <td>10.16</td>\n",
       "    </tr>\n",
       "    <tr>\n",
       "      <th>1</th>\n",
       "      <td>single</td>\n",
       "      <td>1620</td>\n",
       "      <td>9948</td>\n",
       "      <td>11568</td>\n",
       "      <td>14.00</td>\n",
       "    </tr>\n",
       "    <tr>\n",
       "      <th>2</th>\n",
       "      <td>divorced</td>\n",
       "      <td>476</td>\n",
       "      <td>4136</td>\n",
       "      <td>4612</td>\n",
       "      <td>10.32</td>\n",
       "    </tr>\n",
       "    <tr>\n",
       "      <th>3</th>\n",
       "      <td>unknown</td>\n",
       "      <td>12</td>\n",
       "      <td>68</td>\n",
       "      <td>80</td>\n",
       "      <td>15.00</td>\n",
       "    </tr>\n",
       "  </tbody>\n",
       "</table>\n",
       "</div>"
      ],
      "text/plain": [
       "  Marital_Status   Yes     No  Total  Acceptance%\n",
       "0        married  2532  22396  24928        10.16\n",
       "1         single  1620   9948  11568        14.00\n",
       "2       divorced   476   4136   4612        10.32\n",
       "3        unknown    12     68     80        15.00"
      ]
     },
     "execution_count": 18,
     "metadata": {},
     "output_type": "execute_result"
    }
   ],
   "source": [
    "mardf = pd.DataFrame()\n",
    "mardf['Marital_Status'] = list(df.marital.value_counts().index)\n",
    "mardf['Yes'] = list(df[df['y']=='yes']['marital'].value_counts())\n",
    "mardf['No'] = list(df[df['y']=='no']['marital'].value_counts())\n",
    "mardf['Total'] = list(df.marital.value_counts().values)\n",
    "mar_per = []\n",
    "for i in range(len(mardf)):\n",
    "    avg = round((mardf['Yes'][i]/mardf['Total'][i])*100,2)\n",
    "    mar_per.append(avg)\n",
    "mardf['Acceptance%'] = mar_per\n",
    "mardf"
   ]
  },
  {
   "cell_type": "code",
   "execution_count": 19,
   "metadata": {},
   "outputs": [
    {
     "data": {
      "text/plain": [
       "<AxesSubplot:title={'center':'Percentage of Acceptance'}, xlabel='Marital_Status', ylabel='Acceptance%'>"
      ]
     },
     "execution_count": 19,
     "metadata": {},
     "output_type": "execute_result"
    },
    {
     "data": {
      "image/png": "[encoded data removed]",
      "text/plain": [
       "<Figure size 720x360 with 2 Axes>"
      ]
     },
     "metadata": {
      "needs_background": "light"
     },
     "output_type": "display_data"
    }
   ],
   "source": [
    "plt.figure(figsize = (10,5))\n",
    "\n",
    "plt.subplot(1,2,1)\n",
    "plt.title('Count of marital status')\n",
    "sns.barplot(x = mardf['Marital_Status'], y = mardf['Total'])\n",
    "\n",
    "plt.subplot(1,2,2)\n",
    "plt.title('Percentage of Acceptance')\n",
    "sns.barplot(x = mardf['Marital_Status'],y = mardf['Acceptance%'])"
   ]
  },
  {
   "cell_type": "code",
   "execution_count": 20,
   "metadata": {},
   "outputs": [],
   "source": [
    "#EDUCATION FEATURE"
   ]
  },
  {
   "cell_type": "code",
   "execution_count": 22,
   "metadata": {},
   "outputs": [
    {
     "data": {
      "text/html": [
       "<div>\n",
       "<style scoped>\n",
       "    .dataframe tbody tr th:only-of-type {\n",
       "        vertical-align: middle;\n",
       "    }\n",
       "\n",
       "    .dataframe tbody tr th {\n",
       "        vertical-align: top;\n",
       "    }\n",
       "\n",
       "    .dataframe thead th {\n",
       "        text-align: right;\n",
       "    }\n",
       "</style>\n",
       "<table border=\"1\" class=\"dataframe\">\n",
       "  <thead>\n",
       "    <tr style=\"text-align: right;\">\n",
       "      <th></th>\n",
       "      <th>Education</th>\n",
       "      <th>Yes</th>\n",
       "      <th>No</th>\n",
       "      <th>Total</th>\n",
       "      <th>Acceptance%</th>\n",
       "    </tr>\n",
       "  </thead>\n",
       "  <tbody>\n",
       "    <tr>\n",
       "      <th>0</th>\n",
       "      <td>university.degree</td>\n",
       "      <td>1670</td>\n",
       "      <td>10498</td>\n",
       "      <td>12168</td>\n",
       "      <td>13.72</td>\n",
       "    </tr>\n",
       "    <tr>\n",
       "      <th>1</th>\n",
       "      <td>high.school</td>\n",
       "      <td>1031</td>\n",
       "      <td>8484</td>\n",
       "      <td>9515</td>\n",
       "      <td>10.84</td>\n",
       "    </tr>\n",
       "    <tr>\n",
       "      <th>2</th>\n",
       "      <td>basic.9y</td>\n",
       "      <td>595</td>\n",
       "      <td>5572</td>\n",
       "      <td>6045</td>\n",
       "      <td>9.84</td>\n",
       "    </tr>\n",
       "    <tr>\n",
       "      <th>3</th>\n",
       "      <td>professional.course</td>\n",
       "      <td>473</td>\n",
       "      <td>4648</td>\n",
       "      <td>5243</td>\n",
       "      <td>9.02</td>\n",
       "    </tr>\n",
       "    <tr>\n",
       "      <th>4</th>\n",
       "      <td>basic.4y</td>\n",
       "      <td>428</td>\n",
       "      <td>3748</td>\n",
       "      <td>4176</td>\n",
       "      <td>10.25</td>\n",
       "    </tr>\n",
       "    <tr>\n",
       "      <th>5</th>\n",
       "      <td>basic.6y</td>\n",
       "      <td>251</td>\n",
       "      <td>2104</td>\n",
       "      <td>2292</td>\n",
       "      <td>10.95</td>\n",
       "    </tr>\n",
       "    <tr>\n",
       "      <th>6</th>\n",
       "      <td>unknown</td>\n",
       "      <td>188</td>\n",
       "      <td>1480</td>\n",
       "      <td>1731</td>\n",
       "      <td>10.86</td>\n",
       "    </tr>\n",
       "    <tr>\n",
       "      <th>7</th>\n",
       "      <td>illiterate</td>\n",
       "      <td>4</td>\n",
       "      <td>14</td>\n",
       "      <td>18</td>\n",
       "      <td>22.22</td>\n",
       "    </tr>\n",
       "  </tbody>\n",
       "</table>\n",
       "</div>"
      ],
      "text/plain": [
       "             Education   Yes     No  Total  Acceptance%\n",
       "0    university.degree  1670  10498  12168        13.72\n",
       "1          high.school  1031   8484   9515        10.84\n",
       "2             basic.9y   595   5572   6045         9.84\n",
       "3  professional.course   473   4648   5243         9.02\n",
       "4             basic.4y   428   3748   4176        10.25\n",
       "5             basic.6y   251   2104   2292        10.95\n",
       "6              unknown   188   1480   1731        10.86\n",
       "7           illiterate     4     14     18        22.22"
      ]
     },
     "execution_count": 22,
     "metadata": {},
     "output_type": "execute_result"
    }
   ],
   "source": [
    "edudf = pd.DataFrame()\n",
    "edudf['Education'] = list(df.education.value_counts().index)\n",
    "edudf['Yes'] = list(df[df['y']=='yes']['education'].value_counts())\n",
    "edudf['No'] = list(df[df['y']=='no']['education'].value_counts())\n",
    "edudf['Total'] = list(df.education.value_counts().values)\n",
    "edu_per = []\n",
    "for i in range(len(edudf)):\n",
    "    avg = round((edudf['Yes'][i]/edudf['Total'][i])*100,2)\n",
    "    edu_per.append(avg)\n",
    "edudf['Acceptance%'] = edu_per\n",
    "edudf\n"
   ]
  },
  {
   "cell_type": "code",
   "execution_count": 23,
   "metadata": {},
   "outputs": [
    {
     "data": {
      "text/plain": [
       "(array([0, 1, 2, 3, 4, 5, 6, 7]),\n",
       " [Text(0, 0, 'university.degree'),\n",
       "  Text(1, 0, 'high.school'),\n",
       "  Text(2, 0, 'basic.9y'),\n",
       "  Text(3, 0, 'professional.course'),\n",
       "  Text(4, 0, 'basic.4y'),\n",
       "  Text(5, 0, 'basic.6y'),\n",
       "  Text(6, 0, 'unknown'),\n",
       "  Text(7, 0, 'illiterate')])"
      ]
     },
     "execution_count": 23,
     "metadata": {},
     "output_type": "execute_result"
    },
    {
     "data": {
      "image/png": "[encoded data removed]",
      "text/plain": [
       "<Figure size 1080x360 with 2 Axes>"
      ]
     },
     "metadata": {
      "needs_background": "light"
     },
     "output_type": "display_data"
    }
   ],
   "source": [
    "plt.figure(figsize = (15,5))\n",
    "\n",
    "plt.subplot(1,2,1)\n",
    "plt.title('Count of Educational Backgrounds')\n",
    "sns.barplot(x = edudf['Education'], y = edudf['Total'])\n",
    "plt.xticks(rotation = 45)\n",
    "\n",
    "plt.subplot(1,2,2)\n",
    "plt.title('Percentage of Acceptance')\n",
    "sns.barplot(x = edudf['Education'],y = edudf['Acceptance%'])\n",
    "plt.xticks(rotation = 45)"
   ]
  },
  {
   "cell_type": "code",
   "execution_count": 24,
   "metadata": {},
   "outputs": [],
   "source": [
    "# The population is generally educated and most of the respondents have education like a university degree or are school\n",
    "# educated. There are a very few number of illiterates in the dataset and the education of a good number of people(1731)\n",
    "# are unknown. Illiterate respondents are observed to have more acceptance rate than people with any other educational \n",
    "# backgrounds and people who studied professional courses are the toughest to close for the bank."
   ]
  },
  {
   "cell_type": "code",
   "execution_count": 25,
   "metadata": {},
   "outputs": [],
   "source": [
    "#DEFAULT Feature"
   ]
  },
  {
   "cell_type": "code",
   "execution_count": 26,
   "metadata": {},
   "outputs": [
    {
     "data": {
      "text/html": [
       "<div>\n",
       "<style scoped>\n",
       "    .dataframe tbody tr th:only-of-type {\n",
       "        vertical-align: middle;\n",
       "    }\n",
       "\n",
       "    .dataframe tbody tr th {\n",
       "        vertical-align: top;\n",
       "    }\n",
       "\n",
       "    .dataframe thead th {\n",
       "        text-align: right;\n",
       "    }\n",
       "</style>\n",
       "<table border=\"1\" class=\"dataframe\">\n",
       "  <thead>\n",
       "    <tr style=\"text-align: right;\">\n",
       "      <th></th>\n",
       "      <th>no</th>\n",
       "      <th>yes</th>\n",
       "    </tr>\n",
       "  </thead>\n",
       "  <tbody>\n",
       "    <tr>\n",
       "      <th>no</th>\n",
       "      <td>28391</td>\n",
       "      <td>4197.0</td>\n",
       "    </tr>\n",
       "    <tr>\n",
       "      <th>unknown</th>\n",
       "      <td>8154</td>\n",
       "      <td>443.0</td>\n",
       "    </tr>\n",
       "    <tr>\n",
       "      <th>yes</th>\n",
       "      <td>3</td>\n",
       "      <td>NaN</td>\n",
       "    </tr>\n",
       "  </tbody>\n",
       "</table>\n",
       "</div>"
      ],
      "text/plain": [
       "            no     yes\n",
       "no       28391  4197.0\n",
       "unknown   8154   443.0\n",
       "yes          3     NaN"
      ]
     },
     "execution_count": 26,
     "metadata": {},
     "output_type": "execute_result"
    }
   ],
   "source": [
    "defdf = pd.DataFrame()\n",
    "defdf['no'] = df[df['y']=='no']['default'].value_counts()\n",
    "defdf['yes'] = df[df['y']=='yes']['default'].value_counts()\n",
    "defdf"
   ]
  },
  {
   "cell_type": "code",
   "execution_count": 27,
   "metadata": {},
   "outputs": [
    {
     "data": {
      "text/plain": [
       "<AxesSubplot:>"
      ]
     },
     "execution_count": 27,
     "metadata": {},
     "output_type": "execute_result"
    },
    {
     "data": {
      "image/png": "[encoded data removed]",
      "text/plain": [
       "<Figure size 432x288 with 1 Axes>"
      ]
     },
     "metadata": {
      "needs_background": "light"
     },
     "output_type": "display_data"
    }
   ],
   "source": [
    "defdf.plot.bar()"
   ]
  },
  {
   "cell_type": "code",
   "execution_count": 28,
   "metadata": {},
   "outputs": [],
   "source": [
    "# default feature is a highly imbalanced feature in terms of its content. Out of 41188 observations 32588 are 'no' and only 3\n",
    "# observations are 'yes'. A large number of observations are marked unknown and this seriously affect the meaning of the entire\n",
    "# feature"
   ]
  },
  {
   "cell_type": "code",
   "execution_count": 29,
   "metadata": {},
   "outputs": [],
   "source": [
    "#HOUSING FEATURE"
   ]
  },
  {
   "cell_type": "code",
   "execution_count": 30,
   "metadata": {},
   "outputs": [
    {
     "data": {
      "text/html": [
       "<div>\n",
       "<style scoped>\n",
       "    .dataframe tbody tr th:only-of-type {\n",
       "        vertical-align: middle;\n",
       "    }\n",
       "\n",
       "    .dataframe tbody tr th {\n",
       "        vertical-align: top;\n",
       "    }\n",
       "\n",
       "    .dataframe thead th {\n",
       "        text-align: right;\n",
       "    }\n",
       "</style>\n",
       "<table border=\"1\" class=\"dataframe\">\n",
       "  <thead>\n",
       "    <tr style=\"text-align: right;\">\n",
       "      <th></th>\n",
       "      <th>Housing_Loan</th>\n",
       "      <th>Yes</th>\n",
       "      <th>No</th>\n",
       "      <th>Total</th>\n",
       "      <th>Acceptance%</th>\n",
       "    </tr>\n",
       "  </thead>\n",
       "  <tbody>\n",
       "    <tr>\n",
       "      <th>0</th>\n",
       "      <td>yes</td>\n",
       "      <td>2507</td>\n",
       "      <td>19069</td>\n",
       "      <td>21576</td>\n",
       "      <td>11.62</td>\n",
       "    </tr>\n",
       "    <tr>\n",
       "      <th>1</th>\n",
       "      <td>no</td>\n",
       "      <td>2026</td>\n",
       "      <td>16596</td>\n",
       "      <td>18622</td>\n",
       "      <td>10.88</td>\n",
       "    </tr>\n",
       "    <tr>\n",
       "      <th>2</th>\n",
       "      <td>unknown</td>\n",
       "      <td>107</td>\n",
       "      <td>883</td>\n",
       "      <td>990</td>\n",
       "      <td>10.81</td>\n",
       "    </tr>\n",
       "  </tbody>\n",
       "</table>\n",
       "</div>"
      ],
      "text/plain": [
       "  Housing_Loan   Yes     No  Total  Acceptance%\n",
       "0          yes  2507  19069  21576        11.62\n",
       "1           no  2026  16596  18622        10.88\n",
       "2      unknown   107    883    990        10.81"
      ]
     },
     "execution_count": 30,
     "metadata": {},
     "output_type": "execute_result"
    }
   ],
   "source": [
    "houdf = pd.DataFrame()\n",
    "houdf['Housing_Loan'] = list(df.housing.value_counts().index)\n",
    "houdf['Yes'] = list(df[df['y']=='yes']['housing'].value_counts())\n",
    "houdf['No'] = list(df[df['y']=='no']['housing'].value_counts())\n",
    "houdf['Total'] = list(df.housing.value_counts().values)\n",
    "hou_per = []\n",
    "for i in range(len(houdf)):\n",
    "    avg = round((houdf['Yes'][i]/houdf['Total'][i])*100,2)\n",
    "    hou_per.append(avg)\n",
    "houdf['Acceptance%'] = hou_per\n",
    "houdf"
   ]
  },
  {
   "cell_type": "code",
   "execution_count": 31,
   "metadata": {},
   "outputs": [
    {
     "data": {
      "text/plain": [
       "<AxesSubplot:title={'center':'Percentage of Acceptance'}, xlabel='Housing_Loan', ylabel='Acceptance%'>"
      ]
     },
     "execution_count": 31,
     "metadata": {},
     "output_type": "execute_result"
    },
    {
     "data": {
      "image/png": "[encoded data removed]",
      "text/plain": [
       "<Figure size 1080x360 with 2 Axes>"
      ]
     },
     "metadata": {
      "needs_background": "light"
     },
     "output_type": "display_data"
    }
   ],
   "source": [
    "plt.figure(figsize = (15,5))\n",
    "\n",
    "plt.subplot(1,2,1)\n",
    "plt.title('Housing Loan')\n",
    "sns.barplot(x = houdf['Housing_Loan'], y = houdf['Total'])\n",
    "\n",
    "\n",
    "plt.subplot(1,2,2)\n",
    "plt.title('Percentage of Acceptance')\n",
    "sns.barplot(x = houdf['Housing_Loan'],y = houdf['Acceptance%'])"
   ]
  },
  {
   "cell_type": "code",
   "execution_count": 32,
   "metadata": {},
   "outputs": [],
   "source": [
    "# This feature indicates whether the respondent has got an existing housing loan or not. Almost half of the respondents have a\n",
    "# housing loan outstanding while the other have do not have housing loan. Status of 990 respondents are unknown. Irrespective of\n",
    "# the housing loan status around 11% of the responents accept the the term deposit request"
   ]
  },
  {
   "cell_type": "code",
   "execution_count": 33,
   "metadata": {},
   "outputs": [],
   "source": [
    "#LOAN Feature"
   ]
  },
  {
   "cell_type": "code",
   "execution_count": 34,
   "metadata": {},
   "outputs": [
    {
     "data": {
      "text/html": [
       "<div>\n",
       "<style scoped>\n",
       "    .dataframe tbody tr th:only-of-type {\n",
       "        vertical-align: middle;\n",
       "    }\n",
       "\n",
       "    .dataframe tbody tr th {\n",
       "        vertical-align: top;\n",
       "    }\n",
       "\n",
       "    .dataframe thead th {\n",
       "        text-align: right;\n",
       "    }\n",
       "</style>\n",
       "<table border=\"1\" class=\"dataframe\">\n",
       "  <thead>\n",
       "    <tr style=\"text-align: right;\">\n",
       "      <th></th>\n",
       "      <th>Personal_Loan</th>\n",
       "      <th>Yes</th>\n",
       "      <th>No</th>\n",
       "      <th>Total</th>\n",
       "      <th>Acceptance%</th>\n",
       "    </tr>\n",
       "  </thead>\n",
       "  <tbody>\n",
       "    <tr>\n",
       "      <th>0</th>\n",
       "      <td>no</td>\n",
       "      <td>3850</td>\n",
       "      <td>30100</td>\n",
       "      <td>33950</td>\n",
       "      <td>11.34</td>\n",
       "    </tr>\n",
       "    <tr>\n",
       "      <th>1</th>\n",
       "      <td>yes</td>\n",
       "      <td>683</td>\n",
       "      <td>5565</td>\n",
       "      <td>6248</td>\n",
       "      <td>10.93</td>\n",
       "    </tr>\n",
       "    <tr>\n",
       "      <th>2</th>\n",
       "      <td>unknown</td>\n",
       "      <td>107</td>\n",
       "      <td>883</td>\n",
       "      <td>990</td>\n",
       "      <td>10.81</td>\n",
       "    </tr>\n",
       "  </tbody>\n",
       "</table>\n",
       "</div>"
      ],
      "text/plain": [
       "  Personal_Loan   Yes     No  Total  Acceptance%\n",
       "0            no  3850  30100  33950        11.34\n",
       "1           yes   683   5565   6248        10.93\n",
       "2       unknown   107    883    990        10.81"
      ]
     },
     "execution_count": 34,
     "metadata": {},
     "output_type": "execute_result"
    }
   ],
   "source": [
    "loadf = pd.DataFrame()\n",
    "loadf['Personal_Loan'] = list(df.loan.value_counts().index)\n",
    "loadf['Yes'] = list(df[df['y']=='yes']['loan'].value_counts())\n",
    "loadf['No'] = list(df[df['y']=='no']['loan'].value_counts())\n",
    "loadf['Total'] = list(df.loan.value_counts().values)\n",
    "loa_per = []\n",
    "for i in range(len(loadf)):\n",
    "    avg = round((loadf['Yes'][i]/loadf['Total'][i])*100,2)\n",
    "    loa_per.append(avg)\n",
    "loadf['Acceptance%'] = loa_per\n",
    "loadf"
   ]
  },
  {
   "cell_type": "code",
   "execution_count": 35,
   "metadata": {},
   "outputs": [
    {
     "data": {
      "text/plain": [
       "<AxesSubplot:title={'center':'Percentage of Acceptance'}, xlabel='Personal_Loan', ylabel='Acceptance%'>"
      ]
     },
     "execution_count": 35,
     "metadata": {},
     "output_type": "execute_result"
    },
    {
     "data": {
      "image/png": "[encoded data removed]",
      "text/plain": [
       "<Figure size 1080x360 with 2 Axes>"
      ]
     },
     "metadata": {
      "needs_background": "light"
     },
     "output_type": "display_data"
    }
   ],
   "source": [
    "plt.figure(figsize = (15,5))\n",
    "\n",
    "plt.subplot(1,2,1)\n",
    "plt.title('Personal Loan')\n",
    "sns.barplot(x = loadf['Personal_Loan'], y = loadf['Total'])\n",
    "\n",
    "\n",
    "plt.subplot(1,2,2)\n",
    "plt.title('Percentage of Acceptance')\n",
    "sns.barplot(x = loadf['Personal_Loan'],y = loadf['Acceptance%'])"
   ]
  },
  {
   "cell_type": "code",
   "execution_count": 36,
   "metadata": {},
   "outputs": [],
   "source": [
    "# loan feature indicates whether the respondent have any outstanding personal loan or not. Irrespective of whether the personal\n",
    "# loan is outstanding or not, respondents show a similar behavior towards accepting he subscription request. Around 11 percent\n",
    "# of respondents accepted the term deposit subscription request"
   ]
  },
  {
   "cell_type": "code",
   "execution_count": 37,
   "metadata": {},
   "outputs": [],
   "source": [
    "#CONTACT Feature"
   ]
  },
  {
   "cell_type": "code",
   "execution_count": 38,
   "metadata": {},
   "outputs": [
    {
     "data": {
      "text/html": [
       "<div>\n",
       "<style scoped>\n",
       "    .dataframe tbody tr th:only-of-type {\n",
       "        vertical-align: middle;\n",
       "    }\n",
       "\n",
       "    .dataframe tbody tr th {\n",
       "        vertical-align: top;\n",
       "    }\n",
       "\n",
       "    .dataframe thead th {\n",
       "        text-align: right;\n",
       "    }\n",
       "</style>\n",
       "<table border=\"1\" class=\"dataframe\">\n",
       "  <thead>\n",
       "    <tr style=\"text-align: right;\">\n",
       "      <th></th>\n",
       "      <th>Contact_Method</th>\n",
       "      <th>Yes</th>\n",
       "      <th>No</th>\n",
       "      <th>Total</th>\n",
       "      <th>Acceptance%</th>\n",
       "    </tr>\n",
       "  </thead>\n",
       "  <tbody>\n",
       "    <tr>\n",
       "      <th>0</th>\n",
       "      <td>cellular</td>\n",
       "      <td>3853</td>\n",
       "      <td>22291</td>\n",
       "      <td>26144</td>\n",
       "      <td>14.74</td>\n",
       "    </tr>\n",
       "    <tr>\n",
       "      <th>1</th>\n",
       "      <td>telephone</td>\n",
       "      <td>787</td>\n",
       "      <td>14257</td>\n",
       "      <td>15044</td>\n",
       "      <td>5.23</td>\n",
       "    </tr>\n",
       "  </tbody>\n",
       "</table>\n",
       "</div>"
      ],
      "text/plain": [
       "  Contact_Method   Yes     No  Total  Acceptance%\n",
       "0       cellular  3853  22291  26144        14.74\n",
       "1      telephone   787  14257  15044         5.23"
      ]
     },
     "execution_count": 38,
     "metadata": {},
     "output_type": "execute_result"
    }
   ],
   "source": [
    "condf = pd.DataFrame()\n",
    "condf['Contact_Method'] = list(df.contact.value_counts().index)\n",
    "condf['Yes'] = list(df[df['y']=='yes']['contact'].value_counts())\n",
    "condf['No'] = list(df[df['y']=='no']['contact'].value_counts())\n",
    "condf['Total'] = list(df.contact.value_counts().values)\n",
    "con_per = []\n",
    "for i in range(len(condf)):\n",
    "    avg = round((condf['Yes'][i]/condf['Total'][i])*100,2)\n",
    "    con_per.append(avg)\n",
    "condf['Acceptance%'] = con_per\n",
    "condf"
   ]
  },
  {
   "cell_type": "code",
   "execution_count": 39,
   "metadata": {},
   "outputs": [
    {
     "data": {
      "text/plain": [
       "<AxesSubplot:title={'center':'Percentage of Acceptance'}, xlabel='Contact_Method', ylabel='Acceptance%'>"
      ]
     },
     "execution_count": 39,
     "metadata": {},
     "output_type": "execute_result"
    },
    {
     "data": {
      "image/png": "[encoded data removed]",
      "text/plain": [
       "<Figure size 1080x360 with 2 Axes>"
      ]
     },
     "metadata": {
      "needs_background": "light"
     },
     "output_type": "display_data"
    }
   ],
   "source": [
    "plt.figure(figsize = (15,5))\n",
    "\n",
    "plt.subplot(1,2,1)\n",
    "plt.title('Method of Contact')\n",
    "sns.barplot(x = condf['Contact_Method'], y = condf['Total'])\n",
    "\n",
    "\n",
    "plt.subplot(1,2,2)\n",
    "plt.title('Percentage of Acceptance')\n",
    "sns.barplot(x = condf['Contact_Method'],y = condf['Acceptance%'])"
   ]
  },
  {
   "cell_type": "code",
   "execution_count": 40,
   "metadata": {},
   "outputs": [],
   "source": [
    "# The contact feature indicates the mode of contact made to the respondent, whether it is to their telephone or cellular phone. \n",
    "# 63% of the total contacts where made to cellular phones and remaining to telephones. The rate of acceptance of subscription\n",
    "# request by the respondents who were contacted on cellular phone (14%) is almost 3 times compared to that of made to \n",
    "# telephones (5.23%)"
   ]
  },
  {
   "cell_type": "code",
   "execution_count": 41,
   "metadata": {},
   "outputs": [],
   "source": [
    "#MONTH Feature"
   ]
  },
  {
   "cell_type": "code",
   "execution_count": 42,
   "metadata": {},
   "outputs": [
    {
     "data": {
      "text/html": [
       "<div>\n",
       "<style scoped>\n",
       "    .dataframe tbody tr th:only-of-type {\n",
       "        vertical-align: middle;\n",
       "    }\n",
       "\n",
       "    .dataframe tbody tr th {\n",
       "        vertical-align: top;\n",
       "    }\n",
       "\n",
       "    .dataframe thead th {\n",
       "        text-align: right;\n",
       "    }\n",
       "</style>\n",
       "<table border=\"1\" class=\"dataframe\">\n",
       "  <thead>\n",
       "    <tr style=\"text-align: right;\">\n",
       "      <th></th>\n",
       "      <th>Month</th>\n",
       "      <th>Yes</th>\n",
       "      <th>No</th>\n",
       "      <th>Total</th>\n",
       "      <th>Acceptance%</th>\n",
       "    </tr>\n",
       "  </thead>\n",
       "  <tbody>\n",
       "    <tr>\n",
       "      <th>0</th>\n",
       "      <td>may</td>\n",
       "      <td>886</td>\n",
       "      <td>12883</td>\n",
       "      <td>13769</td>\n",
       "      <td>6.43</td>\n",
       "    </tr>\n",
       "    <tr>\n",
       "      <th>1</th>\n",
       "      <td>jul</td>\n",
       "      <td>655</td>\n",
       "      <td>6525</td>\n",
       "      <td>7174</td>\n",
       "      <td>9.13</td>\n",
       "    </tr>\n",
       "    <tr>\n",
       "      <th>2</th>\n",
       "      <td>aug</td>\n",
       "      <td>649</td>\n",
       "      <td>5523</td>\n",
       "      <td>6178</td>\n",
       "      <td>10.51</td>\n",
       "    </tr>\n",
       "    <tr>\n",
       "      <th>3</th>\n",
       "      <td>jun</td>\n",
       "      <td>559</td>\n",
       "      <td>4759</td>\n",
       "      <td>5318</td>\n",
       "      <td>10.51</td>\n",
       "    </tr>\n",
       "    <tr>\n",
       "      <th>4</th>\n",
       "      <td>nov</td>\n",
       "      <td>539</td>\n",
       "      <td>3685</td>\n",
       "      <td>4101</td>\n",
       "      <td>13.14</td>\n",
       "    </tr>\n",
       "    <tr>\n",
       "      <th>5</th>\n",
       "      <td>apr</td>\n",
       "      <td>416</td>\n",
       "      <td>2093</td>\n",
       "      <td>2632</td>\n",
       "      <td>15.81</td>\n",
       "    </tr>\n",
       "    <tr>\n",
       "      <th>6</th>\n",
       "      <td>oct</td>\n",
       "      <td>315</td>\n",
       "      <td>403</td>\n",
       "      <td>718</td>\n",
       "      <td>43.87</td>\n",
       "    </tr>\n",
       "    <tr>\n",
       "      <th>7</th>\n",
       "      <td>sep</td>\n",
       "      <td>276</td>\n",
       "      <td>314</td>\n",
       "      <td>570</td>\n",
       "      <td>48.42</td>\n",
       "    </tr>\n",
       "    <tr>\n",
       "      <th>8</th>\n",
       "      <td>mar</td>\n",
       "      <td>256</td>\n",
       "      <td>270</td>\n",
       "      <td>546</td>\n",
       "      <td>46.89</td>\n",
       "    </tr>\n",
       "    <tr>\n",
       "      <th>9</th>\n",
       "      <td>dec</td>\n",
       "      <td>89</td>\n",
       "      <td>93</td>\n",
       "      <td>182</td>\n",
       "      <td>48.90</td>\n",
       "    </tr>\n",
       "  </tbody>\n",
       "</table>\n",
       "</div>"
      ],
      "text/plain": [
       "  Month  Yes     No  Total  Acceptance%\n",
       "0   may  886  12883  13769         6.43\n",
       "1   jul  655   6525   7174         9.13\n",
       "2   aug  649   5523   6178        10.51\n",
       "3   jun  559   4759   5318        10.51\n",
       "4   nov  539   3685   4101        13.14\n",
       "5   apr  416   2093   2632        15.81\n",
       "6   oct  315    403    718        43.87\n",
       "7   sep  276    314    570        48.42\n",
       "8   mar  256    270    546        46.89\n",
       "9   dec   89     93    182        48.90"
      ]
     },
     "execution_count": 42,
     "metadata": {},
     "output_type": "execute_result"
    }
   ],
   "source": [
    "mondf = pd.DataFrame()\n",
    "mondf['Month'] = list(df.month.value_counts().index)\n",
    "mondf['Yes'] = list(df[df['y']=='yes']['month'].value_counts())\n",
    "mondf['No'] = list(df[df['y']=='no']['month'].value_counts())\n",
    "mondf['Total'] = list(df.month.value_counts().values)\n",
    "mon_per = []\n",
    "for i in range(len(mondf)):\n",
    "    avg = round((mondf['Yes'][i]/mondf['Total'][i])*100,2)\n",
    "    mon_per.append(avg)\n",
    "mondf['Acceptance%'] = mon_per\n",
    "mondf"
   ]
  },
  {
   "cell_type": "code",
   "execution_count": 43,
   "metadata": {},
   "outputs": [
    {
     "data": {
      "text/plain": [
       "<AxesSubplot:title={'center':'Percentage of Acceptance'}, xlabel='Month', ylabel='Acceptance%'>"
      ]
     },
     "execution_count": 43,
     "metadata": {},
     "output_type": "execute_result"
    },
    {
     "data": {
      "image/png": "[encoded data removed]",
      "text/plain": [
       "<Figure size 1080x360 with 2 Axes>"
      ]
     },
     "metadata": {
      "needs_background": "light"
     },
     "output_type": "display_data"
    }
   ],
   "source": [
    "plt.figure(figsize = (15,5))\n",
    "\n",
    "plt.subplot(1,2,1)\n",
    "plt.title('Month')\n",
    "sns.barplot(x = mondf['Month'], y = mondf['Total'])\n",
    "\n",
    "\n",
    "plt.subplot(1,2,2)\n",
    "plt.title('Percentage of Acceptance')\n",
    "sns.barplot(x = mondf['Month'],y = mondf['Acceptance%'])"
   ]
  },
  {
   "cell_type": "code",
   "execution_count": 44,
   "metadata": {},
   "outputs": [],
   "source": [
    "# This feature indicates the month on which the contacts were made. The months recorded are March, April, May, June,July, August,\n",
    "# Septempber, Octorber, November and December. Months January and February are not featured. Highest number of contacts were\n",
    "# made on the month May and least on December. It is interesting to observe that least acceptance rate are in the months were\n",
    "# most calls were made and highest acceptance rate is in the months with lowest number of calls"
   ]
  },
  {
   "cell_type": "code",
   "execution_count": 45,
   "metadata": {},
   "outputs": [],
   "source": [
    "#Day_of_Week feature"
   ]
  },
  {
   "cell_type": "code",
   "execution_count": 46,
   "metadata": {},
   "outputs": [
    {
     "data": {
      "text/html": [
       "<div>\n",
       "<style scoped>\n",
       "    .dataframe tbody tr th:only-of-type {\n",
       "        vertical-align: middle;\n",
       "    }\n",
       "\n",
       "    .dataframe tbody tr th {\n",
       "        vertical-align: top;\n",
       "    }\n",
       "\n",
       "    .dataframe thead th {\n",
       "        text-align: right;\n",
       "    }\n",
       "</style>\n",
       "<table border=\"1\" class=\"dataframe\">\n",
       "  <thead>\n",
       "    <tr style=\"text-align: right;\">\n",
       "      <th></th>\n",
       "      <th>Day</th>\n",
       "      <th>Yes</th>\n",
       "      <th>No</th>\n",
       "      <th>Total</th>\n",
       "      <th>Acceptance%</th>\n",
       "    </tr>\n",
       "  </thead>\n",
       "  <tbody>\n",
       "    <tr>\n",
       "      <th>0</th>\n",
       "      <td>thu</td>\n",
       "      <td>1045</td>\n",
       "      <td>7667</td>\n",
       "      <td>8623</td>\n",
       "      <td>12.12</td>\n",
       "    </tr>\n",
       "    <tr>\n",
       "      <th>1</th>\n",
       "      <td>mon</td>\n",
       "      <td>953</td>\n",
       "      <td>7578</td>\n",
       "      <td>8514</td>\n",
       "      <td>11.19</td>\n",
       "    </tr>\n",
       "    <tr>\n",
       "      <th>2</th>\n",
       "      <td>wed</td>\n",
       "      <td>949</td>\n",
       "      <td>7185</td>\n",
       "      <td>8134</td>\n",
       "      <td>11.67</td>\n",
       "    </tr>\n",
       "    <tr>\n",
       "      <th>3</th>\n",
       "      <td>tue</td>\n",
       "      <td>847</td>\n",
       "      <td>7137</td>\n",
       "      <td>8090</td>\n",
       "      <td>10.47</td>\n",
       "    </tr>\n",
       "    <tr>\n",
       "      <th>4</th>\n",
       "      <td>fri</td>\n",
       "      <td>846</td>\n",
       "      <td>6981</td>\n",
       "      <td>7827</td>\n",
       "      <td>10.81</td>\n",
       "    </tr>\n",
       "  </tbody>\n",
       "</table>\n",
       "</div>"
      ],
      "text/plain": [
       "   Day   Yes    No  Total  Acceptance%\n",
       "0  thu  1045  7667   8623        12.12\n",
       "1  mon   953  7578   8514        11.19\n",
       "2  wed   949  7185   8134        11.67\n",
       "3  tue   847  7137   8090        10.47\n",
       "4  fri   846  6981   7827        10.81"
      ]
     },
     "execution_count": 46,
     "metadata": {},
     "output_type": "execute_result"
    }
   ],
   "source": [
    "daydf = pd.DataFrame()\n",
    "daydf['Day'] = list(df.day_of_week.value_counts().index)\n",
    "daydf['Yes'] = list(df[df['y']=='yes']['day_of_week'].value_counts())\n",
    "daydf['No'] = list(df[df['y']=='no']['day_of_week'].value_counts())\n",
    "daydf['Total'] = list(df.day_of_week.value_counts().values)\n",
    "day_per = []\n",
    "for i in range(len(daydf)):\n",
    "    avg = round((daydf['Yes'][i]/daydf['Total'][i])*100,2)\n",
    "    day_per.append(avg)\n",
    "daydf['Acceptance%'] = day_per\n",
    "daydf"
   ]
  },
  {
   "cell_type": "code",
   "execution_count": 47,
   "metadata": {},
   "outputs": [
    {
     "data": {
      "text/plain": [
       "<AxesSubplot:title={'center':'Percentage of Acceptance'}, xlabel='Day', ylabel='Acceptance%'>"
      ]
     },
     "execution_count": 47,
     "metadata": {},
     "output_type": "execute_result"
    },
    {
     "data": {
      "image/png": "[encoded data removed]",
      "text/plain": [
       "<Figure size 1080x360 with 2 Axes>"
      ]
     },
     "metadata": {
      "needs_background": "light"
     },
     "output_type": "display_data"
    }
   ],
   "source": [
    "plt.figure(figsize = (15,5))\n",
    "\n",
    "plt.subplot(1,2,1)\n",
    "plt.title('Day of Week')\n",
    "sns.barplot(x = daydf['Day'], y = daydf['Total'])\n",
    "\n",
    "\n",
    "plt.subplot(1,2,2)\n",
    "plt.title('Percentage of Acceptance')\n",
    "sns.barplot(x = daydf['Day'],y = daydf['Acceptance%'])"
   ]
  },
  {
   "cell_type": "code",
   "execution_count": 48,
   "metadata": {},
   "outputs": [],
   "source": [
    "# This feature indicates the day of week on which the contact was made. Calls were made on weekdays and not on weekends. There was\n",
    "# no preference to any days for making calls and calls were made evenly throughout weekdays. So is the case with acceptance rate\n",
    "# with almost 11 percentage on all days."
   ]
  },
  {
   "cell_type": "code",
   "execution_count": 49,
   "metadata": {},
   "outputs": [],
   "source": [
    "#DURATION feature"
   ]
  },
  {
   "cell_type": "code",
   "execution_count": 50,
   "metadata": {},
   "outputs": [],
   "source": [
    "# The duration is a feature that can be only recorded after making a sales call and it is not logical to use this featue in \n",
    "# creating a prediction model. So this feature is removed from the dataset"
   ]
  },
  {
   "cell_type": "code",
   "execution_count": 51,
   "metadata": {},
   "outputs": [],
   "source": [
    "#POUTCOME Feature"
   ]
  },
  {
   "cell_type": "code",
   "execution_count": 52,
   "metadata": {},
   "outputs": [
    {
     "data": {
      "text/html": [
       "<div>\n",
       "<style scoped>\n",
       "    .dataframe tbody tr th:only-of-type {\n",
       "        vertical-align: middle;\n",
       "    }\n",
       "\n",
       "    .dataframe tbody tr th {\n",
       "        vertical-align: top;\n",
       "    }\n",
       "\n",
       "    .dataframe thead th {\n",
       "        text-align: right;\n",
       "    }\n",
       "</style>\n",
       "<table border=\"1\" class=\"dataframe\">\n",
       "  <thead>\n",
       "    <tr style=\"text-align: right;\">\n",
       "      <th></th>\n",
       "      <th>Previous_Outcome</th>\n",
       "      <th>Yes</th>\n",
       "      <th>No</th>\n",
       "      <th>Total</th>\n",
       "      <th>Acceptance%</th>\n",
       "    </tr>\n",
       "  </thead>\n",
       "  <tbody>\n",
       "    <tr>\n",
       "      <th>0</th>\n",
       "      <td>nonexistent</td>\n",
       "      <td>3141</td>\n",
       "      <td>32422</td>\n",
       "      <td>35563</td>\n",
       "      <td>8.83</td>\n",
       "    </tr>\n",
       "    <tr>\n",
       "      <th>1</th>\n",
       "      <td>failure</td>\n",
       "      <td>894</td>\n",
       "      <td>3647</td>\n",
       "      <td>4252</td>\n",
       "      <td>21.03</td>\n",
       "    </tr>\n",
       "    <tr>\n",
       "      <th>2</th>\n",
       "      <td>success</td>\n",
       "      <td>605</td>\n",
       "      <td>479</td>\n",
       "      <td>1373</td>\n",
       "      <td>44.06</td>\n",
       "    </tr>\n",
       "  </tbody>\n",
       "</table>\n",
       "</div>"
      ],
      "text/plain": [
       "  Previous_Outcome   Yes     No  Total  Acceptance%\n",
       "0      nonexistent  3141  32422  35563         8.83\n",
       "1          failure   894   3647   4252        21.03\n",
       "2          success   605    479   1373        44.06"
      ]
     },
     "execution_count": 52,
     "metadata": {},
     "output_type": "execute_result"
    }
   ],
   "source": [
    "poudf = pd.DataFrame()\n",
    "poudf['Previous_Outcome'] = list(df.poutcome.value_counts().index)\n",
    "poudf['Yes'] = list(df[df['y']=='yes']['poutcome'].value_counts())\n",
    "poudf['No'] = list(df[df['y']=='no']['poutcome'].value_counts())\n",
    "poudf['Total'] = list(df.poutcome.value_counts().values)\n",
    "pou_per = []\n",
    "for i in range(len(poudf)):\n",
    "    avg = round((poudf['Yes'][i]/poudf['Total'][i])*100,2)\n",
    "    pou_per.append(avg)\n",
    "poudf['Acceptance%'] = pou_per\n",
    "poudf"
   ]
  },
  {
   "cell_type": "code",
   "execution_count": 53,
   "metadata": {},
   "outputs": [
    {
     "data": {
      "text/plain": [
       "<AxesSubplot:title={'center':'Percentage of Acceptance'}, xlabel='Previous_Outcome', ylabel='Acceptance%'>"
      ]
     },
     "execution_count": 53,
     "metadata": {},
     "output_type": "execute_result"
    },
    {
     "data": {
      "image/png": "[encoded data removed]",
      "text/plain": [
       "<Figure size 1080x360 with 2 Axes>"
      ]
     },
     "metadata": {
      "needs_background": "light"
     },
     "output_type": "display_data"
    }
   ],
   "source": [
    "plt.figure(figsize = (15,5))\n",
    "\n",
    "plt.subplot(1,2,1)\n",
    "plt.title('Previous Outcome')\n",
    "sns.barplot(x = poudf['Previous_Outcome'], y = poudf['Total'])\n",
    "\n",
    "\n",
    "plt.subplot(1,2,2)\n",
    "plt.title('Percentage of Acceptance')\n",
    "sns.barplot(x = poudf['Previous_Outcome'],y = poudf['Acceptance%'])"
   ]
  },
  {
   "cell_type": "code",
   "execution_count": 54,
   "metadata": {},
   "outputs": [],
   "source": [
    "# This feature is the result of the previous campaign done before with the same respondents. 86% of the calls in previous \n",
    "# campaigns produced no results while 3 percent of the respondents accepted to subscribe and 10 percent of the calls declined\n",
    "# to subscribe. When it comes to the current campaign, 8.8 percentage of those cases where there was no outcome earlier and \n",
    "# 21 percentage of those who rejected earlier accepted to subscribe this time. But 44 percentage of those who \n",
    "# subscribed during the earlier campaign had accepted to subscribe during the current campaign also. "
   ]
  },
  {
   "cell_type": "code",
   "execution_count": null,
   "metadata": {},
   "outputs": [],
   "source": [
    "#CAMPAIGN Feature"
   ]
  },
  {
   "cell_type": "code",
   "execution_count": 58,
   "metadata": {},
   "outputs": [
    {
     "data": {
      "text/plain": [
       "<AxesSubplot:title={'center':'Campaign Distribution'}, xlabel='campaign', ylabel='Density'>"
      ]
     },
     "execution_count": 58,
     "metadata": {},
     "output_type": "execute_result"
    },
    {
     "data": {
      "image/png": "[encoded data removed]",
      "text/plain": [
       "<Figure size 1080x360 with 2 Axes>"
      ]
     },
     "metadata": {
      "needs_background": "light"
     },
     "output_type": "display_data"
    }
   ],
   "source": [
    "plt.figure(figsize = (15,5))\n",
    "\n",
    "plt.subplot(1,2,1)\n",
    "plt.title('Campaign Boxplot')\n",
    "sns.boxplot(x ='campaign', data = df)\n",
    "\n",
    "\n",
    "plt.subplot(1,2,2)\n",
    "plt.title('Campaign Distribution')\n",
    "sns.kdeplot(x = 'campaign', data = df)"
   ]
  },
  {
   "cell_type": "code",
   "execution_count": 59,
   "metadata": {},
   "outputs": [],
   "source": [
    "#PREVIOUS Feature"
   ]
  },
  {
   "cell_type": "code",
   "execution_count": 60,
   "metadata": {},
   "outputs": [
    {
     "data": {
      "image/png": "[encoded data removed]",
      "text/plain": [
       "<Figure size 432x288 with 1 Axes>"
      ]
     },
     "metadata": {
      "needs_background": "light"
     },
     "output_type": "display_data"
    }
   ],
   "source": [
    "plt.title('Distribution of Previous Feature')\n",
    "plt.bar(x = list(df.previous.value_counts().index), height = list(df.previous.value_counts().values))\n",
    "x =  list(df.previous.value_counts().index)\n",
    "height = list(df.previous.value_counts().values)\n",
    "for i in range(len(x)):\n",
    "    plt.text(i,height[i]+500,height[i],ha = 'center',va = 'bottom')"
   ]
  },
  {
   "cell_type": "code",
   "execution_count": 61,
   "metadata": {},
   "outputs": [
    {
     "data": {
      "text/html": [
       "<div>\n",
       "<style scoped>\n",
       "    .dataframe tbody tr th:only-of-type {\n",
       "        vertical-align: middle;\n",
       "    }\n",
       "\n",
       "    .dataframe tbody tr th {\n",
       "        vertical-align: top;\n",
       "    }\n",
       "\n",
       "    .dataframe thead th {\n",
       "        text-align: right;\n",
       "    }\n",
       "</style>\n",
       "<table border=\"1\" class=\"dataframe\">\n",
       "  <thead>\n",
       "    <tr style=\"text-align: right;\">\n",
       "      <th></th>\n",
       "      <th>Number of calls</th>\n",
       "      <th>% of Acceptance</th>\n",
       "    </tr>\n",
       "  </thead>\n",
       "  <tbody>\n",
       "    <tr>\n",
       "      <th>0</th>\n",
       "      <td>0</td>\n",
       "      <td>8.832213</td>\n",
       "    </tr>\n",
       "    <tr>\n",
       "      <th>1</th>\n",
       "      <td>1</td>\n",
       "      <td>21.201491</td>\n",
       "    </tr>\n",
       "    <tr>\n",
       "      <th>2</th>\n",
       "      <td>2</td>\n",
       "      <td>46.419098</td>\n",
       "    </tr>\n",
       "    <tr>\n",
       "      <th>3</th>\n",
       "      <td>3</td>\n",
       "      <td>59.259259</td>\n",
       "    </tr>\n",
       "    <tr>\n",
       "      <th>4</th>\n",
       "      <td>4</td>\n",
       "      <td>54.285714</td>\n",
       "    </tr>\n",
       "    <tr>\n",
       "      <th>5</th>\n",
       "      <td>5</td>\n",
       "      <td>72.222222</td>\n",
       "    </tr>\n",
       "    <tr>\n",
       "      <th>6</th>\n",
       "      <td>6</td>\n",
       "      <td>60.000000</td>\n",
       "    </tr>\n",
       "    <tr>\n",
       "      <th>7</th>\n",
       "      <td>7</td>\n",
       "      <td>0.000000</td>\n",
       "    </tr>\n",
       "  </tbody>\n",
       "</table>\n",
       "</div>"
      ],
      "text/plain": [
       "   Number of calls  % of Acceptance\n",
       "0                0         8.832213\n",
       "1                1        21.201491\n",
       "2                2        46.419098\n",
       "3                3        59.259259\n",
       "4                4        54.285714\n",
       "5                5        72.222222\n",
       "6                6        60.000000\n",
       "7                7         0.000000"
      ]
     },
     "execution_count": 61,
     "metadata": {},
     "output_type": "execute_result"
    }
   ],
   "source": [
    "pre_tit = list(df['previous'].value_counts().index)\n",
    "pre_per = []\n",
    "for pre in pre_tit:\n",
    "    if not (df[df['previous']== pre]['y'] == 'yes').sum() >= 1:\n",
    "        pre_per.append(0)\n",
    "    else:\n",
    "        percent = ((df[df['previous']== pre]['y'] == 'yes').sum()/df.previous.value_counts()[pre])*100\n",
    "        pre_per.append(percent)\n",
    "    \n",
    "pre_tit = pd.Series(pre_tit,name = 'Number of calls')\n",
    "pre_per = pd.Series(pre_per, name = '% of Acceptance')\n",
    "\n",
    "pd.concat([pre_tit,pre_per], axis = 1)"
   ]
  },
  {
   "cell_type": "code",
   "execution_count": 63,
   "metadata": {},
   "outputs": [],
   "source": [
    "# This feature indicates the number of contact made before the current campaign to a particular customer. For majority of \n",
    "# respondents (86%) there were no calls made during the previous campaing. It is also noted that the percentage of acceptance\n",
    "# to term deposit subscription is increasing with the increasing number of calls made in the previous campaign. "
   ]
  },
  {
   "cell_type": "code",
   "execution_count": 64,
   "metadata": {},
   "outputs": [],
   "source": [
    "#PDAYS Feature"
   ]
  },
  {
   "cell_type": "code",
   "execution_count": 65,
   "metadata": {},
   "outputs": [
    {
     "data": {
      "text/plain": [
       "<AxesSubplot:xlabel='pdays', ylabel='Density'>"
      ]
     },
     "execution_count": 65,
     "metadata": {},
     "output_type": "execute_result"
    },
    {
     "data": {
      "image/png": "[encoded data removed]",
      "text/plain": [
       "<Figure size 432x288 with 1 Axes>"
      ]
     },
     "metadata": {
      "needs_background": "light"
     },
     "output_type": "display_data"
    }
   ],
   "source": [
    "sns.kdeplot(x = 'pdays',data = df)"
   ]
  },
  {
   "cell_type": "code",
   "execution_count": 66,
   "metadata": {},
   "outputs": [],
   "source": [
    "# This is the number of days passed after the respondent was last contacted. Around 96% of the current respondents was contacting\n",
    "# for the first time during this campaign"
   ]
  },
  {
   "cell_type": "code",
   "execution_count": 67,
   "metadata": {},
   "outputs": [],
   "source": [
    "# EMPLOYMENT VARIATION RATE, CONSUMER PRICE INDEX, CONSUMER CONFIDENCE INDEX, EURIBOR 3 MONTH RATE\n",
    "# NUMBER OF EMPLOYEES "
   ]
  },
  {
   "cell_type": "code",
   "execution_count": 68,
   "metadata": {},
   "outputs": [
    {
     "data": {
      "image/png": "[encoded data removed]",
      "text/plain": [
       "<Figure size 720x720 with 5 Axes>"
      ]
     },
     "metadata": {
      "needs_background": "light"
     },
     "output_type": "display_data"
    }
   ],
   "source": [
    "plt.subplot(231)\n",
    "sns.kdeplot(x = 'emp.var.rate', hue = 'y', data = df)\n",
    "fig = plt.gcf()\n",
    "fig.set_size_inches(10,10)\n",
    "\n",
    "plt.subplot(232)\n",
    "sns.kdeplot(x = 'cons.price.idx', hue = 'y', data = df)\n",
    "fig = plt.gcf()\n",
    "fig.set_size_inches(10,10)\n",
    "\n",
    "plt.subplot(233)\n",
    "sns.kdeplot(x = 'cons.conf.idx', hue = 'y', data = df)\n",
    "fig = plt.gcf()\n",
    "fig.set_size_inches(10,10)\n",
    "\n",
    "plt.subplot(234)\n",
    "sns.kdeplot(x = 'euribor3m', hue = 'y', data = df)\n",
    "fig = plt.gcf()\n",
    "fig.set_size_inches(10,10)\n",
    "\n",
    "plt.subplot(235)\n",
    "sns.kdeplot(x = 'nr.employed', hue = 'y', data = df)\n",
    "fig = plt.gcf()\n",
    "fig.set_size_inches(10,10)\n"
   ]
  },
  {
   "cell_type": "code",
   "execution_count": 69,
   "metadata": {},
   "outputs": [],
   "source": [
    "# The dataset have various social and economic indicators added such as employment variation rate,consumer price index, consumer\n",
    "# confidence index, euribor rates and number of employees indicator. All these indicator are highly correlated with target \n",
    "#variable. The percentage of acceptance to term deposit subscription is increasing with the increase of these rates."
   ]
  },
  {
   "cell_type": "code",
   "execution_count": 70,
   "metadata": {},
   "outputs": [
    {
     "data": {
      "text/plain": [
       "<AxesSubplot:>"
      ]
     },
     "execution_count": 70,
     "metadata": {},
     "output_type": "execute_result"
    },
    {
     "data": {
      "image/png": "[encoded data removed]",
      "text/plain": [
       "<Figure size 864x576 with 2 Axes>"
      ]
     },
     "metadata": {
      "needs_background": "light"
     },
     "output_type": "display_data"
    }
   ],
   "source": [
    "#Major correlated variables in the dataset\n",
    "corr = df.corr()\n",
    "plt.figure(figsize = (12,8))\n",
    "sns.heatmap(corr[corr>=0.75], cmap = 'Reds', annot = True)"
   ]
  },
  {
   "cell_type": "code",
   "execution_count": 71,
   "metadata": {},
   "outputs": [],
   "source": [
    "#Preprocessing and feature engineering"
   ]
  },
  {
   "cell_type": "code",
   "execution_count": 72,
   "metadata": {},
   "outputs": [],
   "source": [
    "#creating a new copy of dataset df for feature engineering. Also deleting the duration feature for the reasons explained\n",
    "#earlier\n",
    "df_age = df.copy()\n",
    "del df_age['duration']"
   ]
  },
  {
   "cell_type": "code",
   "execution_count": 73,
   "metadata": {},
   "outputs": [],
   "source": [
    "#removing outliers from the campaign feature and removing all the rows with unknown values in the features job,education,default\n",
    "#loan, housing and marital\n",
    "\n",
    "df_age = df_age[df_age['campaign']<10]\n",
    "unknown1 = list(df_age[df_age['job']=='unknown'].index)\n",
    "unknown2 = list(df_age[df_age['education']=='unknown'].index)\n",
    "unknown3 = list(df_age[df_age['default']=='unknown'].index)\n",
    "unknown4 = list(df_age[df_age['loan']=='unknown'].index)\n",
    "unknown5 = list(df_age[df_age['housing']=='unknown'].index)\n",
    "unknown6 = list(df_age[df_age['marital']=='unknown'].index)\n",
    "unknown_indexes = list(set(unknown1+unknown2+unknown3+unknown4+unknown5+unknown6))\n",
    "ver2_indexes = list(df_age.index)\n",
    "unknown_index = [x for x in ver2_indexes if x not in unknown_indexes]\n",
    "df_age = df_age.loc[unknown_index]"
   ]
  },
  {
   "cell_type": "code",
   "execution_count": 74,
   "metadata": {},
   "outputs": [
    {
     "data": {
      "text/plain": [
       "<AxesSubplot:xlabel='age', ylabel='Count'>"
      ]
     },
     "execution_count": 74,
     "metadata": {},
     "output_type": "execute_result"
    },
    {
     "data": {
      "image/png": "[encoded data removed]",
      "text/plain": [
       "<Figure size 720x360 with 2 Axes>"
      ]
     },
     "metadata": {
      "needs_background": "light"
     },
     "output_type": "display_data"
    }
   ],
   "source": [
    "#Binning - identifying patterns in the distribution of age and months feature to check the possibility of binning\n",
    "\n",
    "plt.figure(figsize = (10,5))\n",
    "plt.subplot(1,2,1)\n",
    "sns.histplot(x = 'age', hue = 'y', data = df_age)\n",
    "plt.subplot(1,2,2)\n",
    "sns.histplot(x = 'age', data = df_age)"
   ]
  },
  {
   "cell_type": "code",
   "execution_count": 75,
   "metadata": {},
   "outputs": [
    {
     "data": {
      "text/plain": [
       "<AxesSubplot:title={'center':'Months - Percentage of Acceptance'}, xlabel='Month', ylabel='Acceptance%'>"
      ]
     },
     "execution_count": 75,
     "metadata": {},
     "output_type": "execute_result"
    },
    {
     "data": {
      "image/png": "[encoded data removed]",
      "text/plain": [
       "<Figure size 432x288 with 1 Axes>"
      ]
     },
     "metadata": {
      "needs_background": "light"
     },
     "output_type": "display_data"
    }
   ],
   "source": [
    "plt.title('Months - Percentage of Acceptance')\n",
    "sns.barplot(x = mondf['Month'],y = mondf['Acceptance%'])"
   ]
  },
  {
   "cell_type": "code",
   "execution_count": 76,
   "metadata": {},
   "outputs": [
    {
     "name": "stderr",
     "output_type": "stream",
     "text": [
      "<ipython-input-76-039c28ea2043>:7: SettingWithCopyWarning: \n",
      "A value is trying to be set on a copy of a slice from a DataFrame\n",
      "\n",
      "See the caveats in the documentation: https://pandas.pydata.org/pandas-docs/stable/user_guide/indexing.html#returning-a-view-versus-a-copy\n",
      "  df_age.month[df_age['month'].isin(['may','jun','jul','aug','nov','apr'])]='low'\n",
      "<ipython-input-76-039c28ea2043>:8: SettingWithCopyWarning: \n",
      "A value is trying to be set on a copy of a slice from a DataFrame\n",
      "\n",
      "See the caveats in the documentation: https://pandas.pydata.org/pandas-docs/stable/user_guide/indexing.html#returning-a-view-versus-a-copy\n",
      "  df_age.month[df_age['month'].isin(['oct','sep','mar','dec'])]='high'\n"
     ]
    },
    {
     "data": {
      "text/plain": [
       "low     27963\n",
       "high     1768\n",
       "Name: month, dtype: int64"
      ]
     },
     "execution_count": 76,
     "metadata": {},
     "output_type": "execute_result"
    }
   ],
   "source": [
    "#based on the visualizations of age and months features the information can be binned into various buckets\n",
    "#age is categorized into bins of 0-20,20-30,30-45,45-55,55-98\n",
    "df_age['age'] = pd.cut(x = df_age['age'], bins = [0,20,30,45,55,98], \n",
    "                        labels = ['teen','youth','adults','seniors','elders'])\n",
    "\n",
    "#based on percentage of acceptance, months are binned into 'low' and 'high'\n",
    "df_age.month[df_age['month'].isin(['may','jun','jul','aug','nov','apr'])]='low'\n",
    "df_age.month[df_age['month'].isin(['oct','sep','mar','dec'])]='high'\n",
    "df_age.month.value_counts()"
   ]
  },
  {
   "cell_type": "code",
   "execution_count": 77,
   "metadata": {},
   "outputs": [
    {
     "name": "stderr",
     "output_type": "stream",
     "text": [
      "<ipython-input-77-c104f6c75470>:12: SettingWithCopyWarning: \n",
      "A value is trying to be set on a copy of a slice from a DataFrame\n",
      "\n",
      "See the caveats in the documentation: https://pandas.pydata.org/pandas-docs/stable/user_guide/indexing.html#returning-a-view-versus-a-copy\n",
      "  df_age['l_h'][var] = 'both_yes'\n",
      "C:\\Users\\abyge\\anaconda3\\lib\\site-packages\\pandas\\core\\indexing.py:670: SettingWithCopyWarning: \n",
      "A value is trying to be set on a copy of a slice from a DataFrame\n",
      "\n",
      "See the caveats in the documentation: https://pandas.pydata.org/pandas-docs/stable/user_guide/indexing.html#returning-a-view-versus-a-copy\n",
      "  iloc._setitem_with_indexer(indexer, value)\n",
      "<ipython-input-77-c104f6c75470>:14: SettingWithCopyWarning: \n",
      "A value is trying to be set on a copy of a slice from a DataFrame\n",
      "\n",
      "See the caveats in the documentation: https://pandas.pydata.org/pandas-docs/stable/user_guide/indexing.html#returning-a-view-versus-a-copy\n",
      "  df_age['l_h'][var] = 'both_no'\n",
      "<ipython-input-77-c104f6c75470>:16: SettingWithCopyWarning: \n",
      "A value is trying to be set on a copy of a slice from a DataFrame\n",
      "\n",
      "See the caveats in the documentation: https://pandas.pydata.org/pandas-docs/stable/user_guide/indexing.html#returning-a-view-versus-a-copy\n",
      "  df_age['l_h'][var] = 'housing'\n",
      "<ipython-input-77-c104f6c75470>:18: SettingWithCopyWarning: \n",
      "A value is trying to be set on a copy of a slice from a DataFrame\n",
      "\n",
      "See the caveats in the documentation: https://pandas.pydata.org/pandas-docs/stable/user_guide/indexing.html#returning-a-view-versus-a-copy\n",
      "  df_age['l_h'][var] = 'loan'\n"
     ]
    }
   ],
   "source": [
    "#housing and loan features share a lot of characteristcs. so trying to create a new feature from these features\n",
    "#creating a new feature l_h from loan and housing features\n",
    "#deleting housing and loan features after creating l_h feature\n",
    "\n",
    "df_age['l_h'] = np.nan\n",
    "ind_both_yes = list(df_age[(df_age['loan']=='yes') & (df_age['housing']== 'yes')].index)\n",
    "ind_loan = list(df_age[(df_age['loan']=='yes') & (df_age['housing']!= 'yes')].index)\n",
    "ind_housing = list(df_age[(df_age['loan']!='yes') & (df_age['housing']== 'yes')].index)\n",
    "ind_both_no = list(df_age[(df_age['loan']!='yes') & (df_age['housing']!= 'yes')].index)\n",
    "\n",
    "for var in ind_both_yes:\n",
    "    df_age['l_h'][var] = 'both_yes'\n",
    "for var in ind_both_no:\n",
    "    df_age['l_h'][var] = 'both_no'\n",
    "for var in ind_housing:\n",
    "    df_age['l_h'][var] = 'housing'\n",
    "for var in ind_loan:\n",
    "    df_age['l_h'][var] = 'loan'\n",
    "    \n",
    "del df_age['housing']\n",
    "del df_age['loan']"
   ]
  },
  {
   "cell_type": "code",
   "execution_count": 79,
   "metadata": {},
   "outputs": [
    {
     "data": {
      "text/plain": [
       "Index(['age', 'job', 'education', 'default', 'contact', 'campaign', 'pdays',\n",
       "       'previous', 'emp.var.rate', 'cons.price.idx', 'cons.conf.idx',\n",
       "       'euribor3m', 'nr.employed', 'y', 'mar_married', 'mar_single',\n",
       "       'pct_nonexistent', 'pct_success', 'mon_low', 'day_mon', 'day_thu',\n",
       "       'day_tue', 'day_wed', 'lh_both_yes', 'lh_housing', 'lh_loan'],\n",
       "      dtype='object')"
      ]
     },
     "execution_count": 79,
     "metadata": {},
     "output_type": "execute_result"
    }
   ],
   "source": [
    "#Encoding the categorical features. Ordianl features are label encoded and categorical features are one hot encoded\n",
    "\n",
    "le = LabelEncoder()\n",
    "\n",
    "for var in ['age','job', 'education', 'default','contact','y']:\n",
    "    df_age[var] = le.fit_transform(df_age[var])\n",
    "\n",
    "\n",
    "df_age = pd.get_dummies(data = df_age, prefix = 'mar',columns = ['marital'],drop_first = True)\n",
    "df_age = pd.get_dummies(data = df_age, prefix = 'pct',columns = ['poutcome'],drop_first = True)\n",
    "df_age = pd.get_dummies(data = df_age, prefix = 'mon',columns = ['month'],drop_first = True)\n",
    "df_age = pd.get_dummies(data = df_age, prefix = 'day',columns = ['day_of_week'],drop_first = True)\n",
    "df_age = pd.get_dummies(data = df_age, prefix = 'lh',columns = ['l_h'],drop_first = True)\n",
    "\n",
    "\n",
    "df_age.columns"
   ]
  },
  {
   "cell_type": "code",
   "execution_count": 80,
   "metadata": {},
   "outputs": [],
   "source": [
    "df_age = df_age[['age', 'job', 'education', 'default', 'contact', 'campaign', 'pdays',\n",
    "       'previous', 'emp.var.rate', 'cons.price.idx', 'cons.conf.idx',\n",
    "       'euribor3m', 'nr.employed', 'mar_married', 'mar_single',\n",
    "       'pct_nonexistent', 'pct_success', 'mon_low', 'day_mon', 'day_thu',\n",
    "       'day_tue', 'day_wed', 'lh_both_yes', 'lh_housing', 'lh_loan','y']]"
   ]
  },
  {
   "cell_type": "code",
   "execution_count": 81,
   "metadata": {},
   "outputs": [],
   "source": [
    "#creating prediction model using random forest algorithm\n",
    "\n",
    "x_rf = df_age.iloc[:,:-1]\n",
    "y_rf = df_age.iloc[:,-1]\n",
    "\n",
    "from sklearn.ensemble import RandomForestClassifier\n",
    "x_train_rf,x_test_rf,y_train_rf,y_test_rf = train_test_split(x_rf,y_rf,test_size = 0.3, random_state = 155)\n",
    "rf = RandomForestClassifier(n_estimators = 10,criterion = 'entropy')\n",
    "rf.fit(x_train_rf,y_train_rf)\n",
    "\n",
    "y_pred_rf = rf.predict(x_test_rf)"
   ]
  },
  {
   "cell_type": "code",
   "execution_count": 82,
   "metadata": {},
   "outputs": [
    {
     "name": "stdout",
     "output_type": "stream",
     "text": [
      "[[7478  324]\n",
      " [ 796  322]]\n",
      "0.874439461883408\n",
      "0.6232432489444705\n",
      "0.3650793650793651\n"
     ]
    }
   ],
   "source": [
    "cm_rf = confusion_matrix(y_test_rf,y_pred_rf)\n",
    "accu_rf = accuracy_score(y_test_rf,y_pred_rf)\n",
    "print(cm_rf)\n",
    "print(accu_rf)\n",
    "\n",
    "#area under the curve\n",
    "\n",
    "auc_rf = metrics.roc_auc_score(y_test_rf,y_pred_rf)\n",
    "print(auc_rf)\n",
    "\n",
    "#F1 score\n",
    "\n",
    "f1_rf = f1_score(y_test_rf,y_pred_rf)\n",
    "print(f1_rf)"
   ]
  },
  {
   "cell_type": "code",
   "execution_count": 99,
   "metadata": {},
   "outputs": [
    {
     "name": "stdout",
     "output_type": "stream",
     "text": [
      "Mean Accuracy (Random Forest) = 87.09\n",
      "Standard Deviation (Random Forest) = 0.24\n"
     ]
    }
   ],
   "source": [
    "#cv random forest\n",
    "\n",
    "from sklearn.model_selection import cross_val_score\n",
    "accuracies_rf = cross_val_score(estimator = rf,X = x_train_rf,y = y_train_rf ,cv = 10)\n",
    "accu_cv_rf = round(accuracies_rf.mean()*100,2)\n",
    "std_cv_rf = round(accuracies_rf.std()*100,2)\n",
    "print('Mean Accuracy (Random Forest) = {}'.format(accu_cv_rf))\n",
    "print('Standard Deviation (Random Forest) = {}'.format(std_cv_rf))"
   ]
  },
  {
   "cell_type": "code",
   "execution_count": 85,
   "metadata": {},
   "outputs": [],
   "source": [
    "#Though we received an accuracy of 87% the model will not provide any quality prediction because of the very high number\n",
    "#of false positives and false negatives compared to the number of true negatives. As true negatives are the desired\n",
    "#outcome in this marketing campaign the model will perform very poorly. This deficiancy of the model is reflected in the\n",
    "#poor F1 Score - 0.36. One solution to overcome this is to resample the minority class to the number of majority class in\n",
    "#target variable."
   ]
  },
  {
   "cell_type": "code",
   "execution_count": 86,
   "metadata": {},
   "outputs": [
    {
     "data": {
      "text/plain": [
       "0    25901\n",
       "1     3830\n",
       "Name: y, dtype: int64"
      ]
     },
     "execution_count": 86,
     "metadata": {},
     "output_type": "execute_result"
    }
   ],
   "source": [
    "#getting the counts of target variable\n",
    "df_resam = df_age.copy()\n",
    "df_resam.y.value_counts()"
   ]
  },
  {
   "cell_type": "code",
   "execution_count": 87,
   "metadata": {},
   "outputs": [
    {
     "data": {
      "text/plain": [
       "1    25901\n",
       "0    25901\n",
       "Name: y, dtype: int64"
      ]
     },
     "execution_count": 87,
     "metadata": {},
     "output_type": "execute_result"
    }
   ],
   "source": [
    "#resampling the minority class to make the target variable balanced\n",
    "\n",
    "df_resam_maj = df_resam[df_resam['y']==0]\n",
    "df_resam_min = df_resam[df_resam['y']== 1]\n",
    "df_resam_min_up = resample(df_resam_min, replace = True, n_samples = 25901)\n",
    "df_resam = pd.concat([df_resam_maj, df_resam_min_up])\n",
    "df_resam.y.value_counts()"
   ]
  },
  {
   "cell_type": "code",
   "execution_count": 88,
   "metadata": {},
   "outputs": [],
   "source": [
    "#remodelling using the resampled dataset\n",
    "\n",
    "\n",
    "x_rf_resam = df_resam.iloc[:,:-1]\n",
    "y_rf_resam = df_resam.iloc[:,-1]\n",
    "\n",
    "\n",
    "x_train_resam,x_test_resam,y_train_resam,y_test_resam = train_test_split(x_rf_resam,\n",
    "                                                                         y_rf_resam,test_size = 0.3, random_state = 155)\n",
    "rf_resam = RandomForestClassifier(n_estimators = 10,criterion = 'entropy')\n",
    "rf_resam.fit(x_train_resam,y_train_resam)\n",
    "\n",
    "y_pred_resam = rf_resam.predict(x_test_resam)"
   ]
  },
  {
   "cell_type": "code",
   "execution_count": 89,
   "metadata": {},
   "outputs": [
    {
     "name": "stdout",
     "output_type": "stream",
     "text": [
      "[[7034  790]\n",
      " [ 138 7579]]\n",
      "0.9402869828196384\n",
      "0.9405730164963922\n",
      "0.9423100833022504\n"
     ]
    }
   ],
   "source": [
    "cm_rf_resam = confusion_matrix(y_test_resam,y_pred_resam)\n",
    "accu_rf_resam = accuracy_score(y_test_resam,y_pred_resam)\n",
    "print(cm_rf_resam)\n",
    "print(accu_rf_resam)\n",
    "\n",
    "#area under the curve\n",
    "\n",
    "auc_rf_resam = metrics.roc_auc_score(y_test_resam,y_pred_resam)\n",
    "print(auc_rf_resam)\n",
    "\n",
    "#F1 score\n",
    "\n",
    "f1_rf_resam = f1_score(y_test_resam,y_pred_resam)\n",
    "print(f1_rf_resam)"
   ]
  },
  {
   "cell_type": "code",
   "execution_count": 98,
   "metadata": {},
   "outputs": [
    {
     "data": {
      "text/plain": [
       "25"
      ]
     },
     "execution_count": 98,
     "metadata": {},
     "output_type": "execute_result"
    }
   ],
   "source": [
    "len(x_rf_resam.columns)"
   ]
  },
  {
   "cell_type": "code",
   "execution_count": null,
   "metadata": {},
   "outputs": [],
   "source": [
    "#The accuracy, AUC and F1 Score increased considerably after the resampling. The confusion matrix is more meaningful now and \n",
    "# 94% accuracy is considered to be decent for a model. \n",
    "\n",
    "#There are 25 features in the current training dataset. We can evaluate the importance of these features and try different\n",
    "#combinations of these features to create a subset of the current training dataset that is less complex. Recursive Feature\n",
    "#elimination can be used to try different combination of features and by this way we can get a subset that is equally or\n",
    "#better performing at the same time with very less features than the original one."
   ]
  },
  {
   "cell_type": "code",
   "execution_count": 92,
   "metadata": {},
   "outputs": [
    {
     "name": "stdout",
     "output_type": "stream",
     "text": [
      "Optimal Number of features: 13\n"
     ]
    },
    {
     "data": {
      "image/png": "[encoded data removed]",
      "text/plain": [
       "<Figure size 720x360 with 1 Axes>"
      ]
     },
     "metadata": {
      "needs_background": "light"
     },
     "output_type": "display_data"
    },
    {
     "name": "stdout",
     "output_type": "stream",
     "text": [
      "['age', 'job', 'education', 'campaign', 'pdays', 'previous', 'emp.var.rate', 'cons.price.idx', 'cons.conf.idx', 'euribor3m', 'nr.employed', 'mar_married', 'lh_housing']\n"
     ]
    }
   ],
   "source": [
    "#remodelling with RFECV\n",
    "\n",
    "from sklearn.feature_selection import RFECV\n",
    "from sklearn.model_selection import StratifiedKFold\n",
    "rfecv_rf_resam = RFECV(estimator = rf_resam,step =1,cv= StratifiedKFold(10),scoring = 'accuracy')\n",
    "rfecv_rf_resam.fit(x_rf_resam,y_rf_resam)\n",
    "\n",
    "print('Optimal Number of features: {}'.format(rfecv_rf_resam.n_features_))\n",
    "\n",
    "plt.figure(figsize = (10,5))\n",
    "plt.title('RFECV with Random Forest and Accuracy ')\n",
    "plt.xlabel('Number of features selected')\n",
    "plt.ylabel('Feature scores')\n",
    "plt.plot(range(1,len(rfecv_rf_resam.grid_scores_)+1),rfecv_rf_resam.grid_scores_)\n",
    "plt.show()\n",
    "\n",
    "featurelist_rf_resam = list(zip(x_rf_resam.columns,rfecv_rf_resam.support_))\n",
    "important_features_rf_resam = []\n",
    "for key,value in enumerate(featurelist_rf_resam):\n",
    "    if(value[1])==True:\n",
    "        important_features_rf_resam.append(value[0])\n",
    "        \n",
    "print(important_features_rf_resam)"
   ]
  },
  {
   "cell_type": "code",
   "execution_count": null,
   "metadata": {},
   "outputs": [],
   "source": [
    "#Using RFECV we reduced the number of features from 25 to 13. The relevant features are ['age', 'job', 'education',\n",
    "#'campaign', 'pdays', 'previous', 'emp.var.rate', 'cons.price.idx', 'cons.conf.idx', 'euribor3m', 'nr.employed', \n",
    "#'mar_married', 'lh_housing'] now\n"
   ]
  },
  {
   "cell_type": "code",
   "execution_count": 94,
   "metadata": {},
   "outputs": [
    {
     "name": "stdout",
     "output_type": "stream",
     "text": [
      "The list of omitted features during RFECV\n"
     ]
    },
    {
     "data": {
      "text/plain": [
       "{'contact',\n",
       " 'day_mon',\n",
       " 'day_thu',\n",
       " 'day_tue',\n",
       " 'day_wed',\n",
       " 'default',\n",
       " 'lh_both_yes',\n",
       " 'lh_loan',\n",
       " 'mar_single',\n",
       " 'mon_low',\n",
       " 'pct_nonexistent',\n",
       " 'pct_success'}"
      ]
     },
     "execution_count": 94,
     "metadata": {},
     "output_type": "execute_result"
    }
   ],
   "source": [
    "#creating new new x and y datasets and listing out the omitted features\n",
    "\n",
    "x_rfecv_rf_resam = x_rf_resam[important_features_rf_resam]\n",
    "y_rfecv_rf_resam = y_rf_resam\n",
    "print(\"The list of omitted features during RFECV\")\n",
    "set(list(x_rf_resam.columns)) ^ set(list(x_rfecv_rf_resam))"
   ]
  },
  {
   "cell_type": "code",
   "execution_count": 95,
   "metadata": {},
   "outputs": [
    {
     "name": "stdout",
     "output_type": "stream",
     "text": [
      "[[6844  951]\n",
      " [ 237 7509]]\n",
      "Accuracy Resampled - 0.9402869828196384 Accuracy RFECV DT Accuracy - 0.9235570426613474\n",
      "AUC Resampled - 0.9405730164963922 AUC RFECV DT Accuracy - 0.92370114012786\n",
      "F1 Score Resampled - 0.9423100833022504 F1 RFECV DT Accuracy - 0.9266938171047759\n"
     ]
    }
   ],
   "source": [
    "#remodelling using the new dataset after RFECV\n",
    "\n",
    "x_train_rfecv_rf_resam,x_test_rfecv_rf_resam,y_train_rfecv_rf_resam,y_test_rfecv_rf_resam = train_test_split(x_rfecv_rf_resam,\n",
    "                                                                                                         y_rfecv_rf_resam,\n",
    "                                                                                                         test_size = 0.3, \n",
    "                                                                                                         random_state = 117)\n",
    "\n",
    "rf_resam.fit(x_train_rfecv_rf_resam,y_train_rfecv_rf_resam)\n",
    "\n",
    "y_pred_rfecv_rf_resam = rf_resam.predict(x_test_rfecv_rf_resam)\n",
    "\n",
    "cm_rfecv_rf_resam = confusion_matrix(y_test_rfecv_rf_resam,y_pred_rfecv_rf_resam)\n",
    "accu_rfecv_rf_resam = accuracy_score(y_test_rfecv_rf_resam,y_pred_rfecv_rf_resam)\n",
    "print(cm_rfecv_rf_resam)\n",
    "print('Accuracy Resampled - {} Accuracy RFECV DT Accuracy - {}'.format(accu_rf_resam,accu_rfecv_rf_resam))\n",
    "\n",
    "#area under the curve\n",
    "\n",
    "auc_rfecv_rf_resam = metrics.roc_auc_score(y_test_rfecv_rf_resam,y_pred_rfecv_rf_resam)\n",
    "print('AUC Resampled - {} AUC RFECV DT Accuracy - {}'.format(auc_rf_resam,auc_rfecv_rf_resam))\n",
    "\n",
    "#F1 score\n",
    "\n",
    "f1_rfecv_rf_resam = f1_score(y_test_rfecv_rf_resam,y_pred_rfecv_rf_resam)\n",
    "print('F1 Score Resampled - {} F1 RFECV DT Accuracy - {}'.format(f1_rf_resam,f1_rfecv_rf_resam))"
   ]
  },
  {
   "cell_type": "code",
   "execution_count": null,
   "metadata": {},
   "outputs": [],
   "source": [
    "#Though the accuracy, AUC and F1 score slightly decreased when compared to the dataset before RFECV, there is a huge \n",
    "#improvement in the process by reducing its complexity. The number of features reduced to 13 without any considerable\n",
    "#loss in the prediction accuracy of the model"
   ]
  }
 ],
 "metadata": {
  "kernelspec": {
   "display_name": "Python 3",
   "language": "python",
   "name": "python3"
  },
  "language_info": {
   "codemirror_mode": {
    "name": "ipython",
    "version": 3
   },
   "file_extension": ".py",
   "mimetype": "text/x-python",
   "name": "python",
   "nbconvert_exporter": "python",
   "pygments_lexer": "ipython3",
   "version": "3.8.5"
  }
 },
 "nbformat": 4,
 "nbformat_minor": 4
}
